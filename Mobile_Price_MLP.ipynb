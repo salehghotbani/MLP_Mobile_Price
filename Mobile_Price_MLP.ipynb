{
 "cells": [
  {
   "cell_type": "markdown",
   "id": "2d4e16b7452aadb2",
   "metadata": {},
   "source": [
    "---\n",
    "### Imports"
   ]
  },
  {
   "cell_type": "code",
   "id": "initial_id",
   "metadata": {
    "collapsed": true,
    "ExecuteTime": {
     "end_time": "2025-06-22T19:38:23.226745Z",
     "start_time": "2025-06-22T19:38:18.552211Z"
    }
   },
   "source": [
    "import pandas as pd\n",
    "import torch\n",
    "from torchmetrics import Accuracy, F1Score\n",
    "from sklearn.model_selection import train_test_split\n",
    "from torch.utils.data import DataLoader, TensorDataset\n",
    "from matplotlib import pyplot as plt\n",
    "from tqdm import tqdm\n",
    "from prettytable import PrettyTable"
   ],
   "outputs": [
    {
     "name": "stderr",
     "output_type": "stream",
     "text": [
      "W0622 23:08:23.129000 11212 torch\\distributed\\elastic\\multiprocessing\\redirects.py:29] NOTE: Redirects are currently not supported in Windows or MacOs.\n"
     ]
    }
   ],
   "execution_count": 1
  },
  {
   "cell_type": "markdown",
   "id": "9f3ed5cd149e5ed",
   "metadata": {},
   "source": [
    "---\n",
    "### Load Dataset\n",
    "##### Train:"
   ]
  },
  {
   "cell_type": "code",
   "id": "e0a3c9a4df95c7bc",
   "metadata": {
    "ExecuteTime": {
     "end_time": "2025-06-22T19:38:23.357435Z",
     "start_time": "2025-06-22T19:38:23.348995Z"
    }
   },
   "source": [
    "data_frame_train = pd.read_csv('./dataset/train.csv')\n",
    "x = data_frame_train.drop('price_range', axis=1)\n",
    "y = data_frame_train['price_range']"
   ],
   "outputs": [],
   "execution_count": 2
  },
  {
   "cell_type": "code",
   "id": "2f3e2798a953610f",
   "metadata": {
    "ExecuteTime": {
     "end_time": "2025-06-22T19:38:23.379977Z",
     "start_time": "2025-06-22T19:38:23.369964Z"
    }
   },
   "source": [
    "x"
   ],
   "outputs": [
    {
     "data": {
      "text/plain": [
       "      battery_power  blue  clock_speed  dual_sim  fc  four_g  int_memory  \\\n",
       "0               842     0          2.2         0   1       0           7   \n",
       "1              1021     1          0.5         1   0       1          53   \n",
       "2               563     1          0.5         1   2       1          41   \n",
       "3               615     1          2.5         0   0       0          10   \n",
       "4              1821     1          1.2         0  13       1          44   \n",
       "...             ...   ...          ...       ...  ..     ...         ...   \n",
       "1995            794     1          0.5         1   0       1           2   \n",
       "1996           1965     1          2.6         1   0       0          39   \n",
       "1997           1911     0          0.9         1   1       1          36   \n",
       "1998           1512     0          0.9         0   4       1          46   \n",
       "1999            510     1          2.0         1   5       1          45   \n",
       "\n",
       "      m_dep  mobile_wt  n_cores  pc  px_height  px_width   ram  sc_h  sc_w  \\\n",
       "0       0.6        188        2   2         20       756  2549     9     7   \n",
       "1       0.7        136        3   6        905      1988  2631    17     3   \n",
       "2       0.9        145        5   6       1263      1716  2603    11     2   \n",
       "3       0.8        131        6   9       1216      1786  2769    16     8   \n",
       "4       0.6        141        2  14       1208      1212  1411     8     2   \n",
       "...     ...        ...      ...  ..        ...       ...   ...   ...   ...   \n",
       "1995    0.8        106        6  14       1222      1890   668    13     4   \n",
       "1996    0.2        187        4   3        915      1965  2032    11    10   \n",
       "1997    0.7        108        8   3        868      1632  3057     9     1   \n",
       "1998    0.1        145        5   5        336       670   869    18    10   \n",
       "1999    0.9        168        6  16        483       754  3919    19     4   \n",
       "\n",
       "      talk_time  three_g  touch_screen  wifi  \n",
       "0            19        0             0     1  \n",
       "1             7        1             1     0  \n",
       "2             9        1             1     0  \n",
       "3            11        1             0     0  \n",
       "4            15        1             1     0  \n",
       "...         ...      ...           ...   ...  \n",
       "1995         19        1             1     0  \n",
       "1996         16        1             1     1  \n",
       "1997          5        1             1     0  \n",
       "1998         19        1             1     1  \n",
       "1999          2        1             1     1  \n",
       "\n",
       "[2000 rows x 20 columns]"
      ],
      "text/html": [
       "<div>\n",
       "<style scoped>\n",
       "    .dataframe tbody tr th:only-of-type {\n",
       "        vertical-align: middle;\n",
       "    }\n",
       "\n",
       "    .dataframe tbody tr th {\n",
       "        vertical-align: top;\n",
       "    }\n",
       "\n",
       "    .dataframe thead th {\n",
       "        text-align: right;\n",
       "    }\n",
       "</style>\n",
       "<table border=\"1\" class=\"dataframe\">\n",
       "  <thead>\n",
       "    <tr style=\"text-align: right;\">\n",
       "      <th></th>\n",
       "      <th>battery_power</th>\n",
       "      <th>blue</th>\n",
       "      <th>clock_speed</th>\n",
       "      <th>dual_sim</th>\n",
       "      <th>fc</th>\n",
       "      <th>four_g</th>\n",
       "      <th>int_memory</th>\n",
       "      <th>m_dep</th>\n",
       "      <th>mobile_wt</th>\n",
       "      <th>n_cores</th>\n",
       "      <th>pc</th>\n",
       "      <th>px_height</th>\n",
       "      <th>px_width</th>\n",
       "      <th>ram</th>\n",
       "      <th>sc_h</th>\n",
       "      <th>sc_w</th>\n",
       "      <th>talk_time</th>\n",
       "      <th>three_g</th>\n",
       "      <th>touch_screen</th>\n",
       "      <th>wifi</th>\n",
       "    </tr>\n",
       "  </thead>\n",
       "  <tbody>\n",
       "    <tr>\n",
       "      <th>0</th>\n",
       "      <td>842</td>\n",
       "      <td>0</td>\n",
       "      <td>2.2</td>\n",
       "      <td>0</td>\n",
       "      <td>1</td>\n",
       "      <td>0</td>\n",
       "      <td>7</td>\n",
       "      <td>0.6</td>\n",
       "      <td>188</td>\n",
       "      <td>2</td>\n",
       "      <td>2</td>\n",
       "      <td>20</td>\n",
       "      <td>756</td>\n",
       "      <td>2549</td>\n",
       "      <td>9</td>\n",
       "      <td>7</td>\n",
       "      <td>19</td>\n",
       "      <td>0</td>\n",
       "      <td>0</td>\n",
       "      <td>1</td>\n",
       "    </tr>\n",
       "    <tr>\n",
       "      <th>1</th>\n",
       "      <td>1021</td>\n",
       "      <td>1</td>\n",
       "      <td>0.5</td>\n",
       "      <td>1</td>\n",
       "      <td>0</td>\n",
       "      <td>1</td>\n",
       "      <td>53</td>\n",
       "      <td>0.7</td>\n",
       "      <td>136</td>\n",
       "      <td>3</td>\n",
       "      <td>6</td>\n",
       "      <td>905</td>\n",
       "      <td>1988</td>\n",
       "      <td>2631</td>\n",
       "      <td>17</td>\n",
       "      <td>3</td>\n",
       "      <td>7</td>\n",
       "      <td>1</td>\n",
       "      <td>1</td>\n",
       "      <td>0</td>\n",
       "    </tr>\n",
       "    <tr>\n",
       "      <th>2</th>\n",
       "      <td>563</td>\n",
       "      <td>1</td>\n",
       "      <td>0.5</td>\n",
       "      <td>1</td>\n",
       "      <td>2</td>\n",
       "      <td>1</td>\n",
       "      <td>41</td>\n",
       "      <td>0.9</td>\n",
       "      <td>145</td>\n",
       "      <td>5</td>\n",
       "      <td>6</td>\n",
       "      <td>1263</td>\n",
       "      <td>1716</td>\n",
       "      <td>2603</td>\n",
       "      <td>11</td>\n",
       "      <td>2</td>\n",
       "      <td>9</td>\n",
       "      <td>1</td>\n",
       "      <td>1</td>\n",
       "      <td>0</td>\n",
       "    </tr>\n",
       "    <tr>\n",
       "      <th>3</th>\n",
       "      <td>615</td>\n",
       "      <td>1</td>\n",
       "      <td>2.5</td>\n",
       "      <td>0</td>\n",
       "      <td>0</td>\n",
       "      <td>0</td>\n",
       "      <td>10</td>\n",
       "      <td>0.8</td>\n",
       "      <td>131</td>\n",
       "      <td>6</td>\n",
       "      <td>9</td>\n",
       "      <td>1216</td>\n",
       "      <td>1786</td>\n",
       "      <td>2769</td>\n",
       "      <td>16</td>\n",
       "      <td>8</td>\n",
       "      <td>11</td>\n",
       "      <td>1</td>\n",
       "      <td>0</td>\n",
       "      <td>0</td>\n",
       "    </tr>\n",
       "    <tr>\n",
       "      <th>4</th>\n",
       "      <td>1821</td>\n",
       "      <td>1</td>\n",
       "      <td>1.2</td>\n",
       "      <td>0</td>\n",
       "      <td>13</td>\n",
       "      <td>1</td>\n",
       "      <td>44</td>\n",
       "      <td>0.6</td>\n",
       "      <td>141</td>\n",
       "      <td>2</td>\n",
       "      <td>14</td>\n",
       "      <td>1208</td>\n",
       "      <td>1212</td>\n",
       "      <td>1411</td>\n",
       "      <td>8</td>\n",
       "      <td>2</td>\n",
       "      <td>15</td>\n",
       "      <td>1</td>\n",
       "      <td>1</td>\n",
       "      <td>0</td>\n",
       "    </tr>\n",
       "    <tr>\n",
       "      <th>...</th>\n",
       "      <td>...</td>\n",
       "      <td>...</td>\n",
       "      <td>...</td>\n",
       "      <td>...</td>\n",
       "      <td>...</td>\n",
       "      <td>...</td>\n",
       "      <td>...</td>\n",
       "      <td>...</td>\n",
       "      <td>...</td>\n",
       "      <td>...</td>\n",
       "      <td>...</td>\n",
       "      <td>...</td>\n",
       "      <td>...</td>\n",
       "      <td>...</td>\n",
       "      <td>...</td>\n",
       "      <td>...</td>\n",
       "      <td>...</td>\n",
       "      <td>...</td>\n",
       "      <td>...</td>\n",
       "      <td>...</td>\n",
       "    </tr>\n",
       "    <tr>\n",
       "      <th>1995</th>\n",
       "      <td>794</td>\n",
       "      <td>1</td>\n",
       "      <td>0.5</td>\n",
       "      <td>1</td>\n",
       "      <td>0</td>\n",
       "      <td>1</td>\n",
       "      <td>2</td>\n",
       "      <td>0.8</td>\n",
       "      <td>106</td>\n",
       "      <td>6</td>\n",
       "      <td>14</td>\n",
       "      <td>1222</td>\n",
       "      <td>1890</td>\n",
       "      <td>668</td>\n",
       "      <td>13</td>\n",
       "      <td>4</td>\n",
       "      <td>19</td>\n",
       "      <td>1</td>\n",
       "      <td>1</td>\n",
       "      <td>0</td>\n",
       "    </tr>\n",
       "    <tr>\n",
       "      <th>1996</th>\n",
       "      <td>1965</td>\n",
       "      <td>1</td>\n",
       "      <td>2.6</td>\n",
       "      <td>1</td>\n",
       "      <td>0</td>\n",
       "      <td>0</td>\n",
       "      <td>39</td>\n",
       "      <td>0.2</td>\n",
       "      <td>187</td>\n",
       "      <td>4</td>\n",
       "      <td>3</td>\n",
       "      <td>915</td>\n",
       "      <td>1965</td>\n",
       "      <td>2032</td>\n",
       "      <td>11</td>\n",
       "      <td>10</td>\n",
       "      <td>16</td>\n",
       "      <td>1</td>\n",
       "      <td>1</td>\n",
       "      <td>1</td>\n",
       "    </tr>\n",
       "    <tr>\n",
       "      <th>1997</th>\n",
       "      <td>1911</td>\n",
       "      <td>0</td>\n",
       "      <td>0.9</td>\n",
       "      <td>1</td>\n",
       "      <td>1</td>\n",
       "      <td>1</td>\n",
       "      <td>36</td>\n",
       "      <td>0.7</td>\n",
       "      <td>108</td>\n",
       "      <td>8</td>\n",
       "      <td>3</td>\n",
       "      <td>868</td>\n",
       "      <td>1632</td>\n",
       "      <td>3057</td>\n",
       "      <td>9</td>\n",
       "      <td>1</td>\n",
       "      <td>5</td>\n",
       "      <td>1</td>\n",
       "      <td>1</td>\n",
       "      <td>0</td>\n",
       "    </tr>\n",
       "    <tr>\n",
       "      <th>1998</th>\n",
       "      <td>1512</td>\n",
       "      <td>0</td>\n",
       "      <td>0.9</td>\n",
       "      <td>0</td>\n",
       "      <td>4</td>\n",
       "      <td>1</td>\n",
       "      <td>46</td>\n",
       "      <td>0.1</td>\n",
       "      <td>145</td>\n",
       "      <td>5</td>\n",
       "      <td>5</td>\n",
       "      <td>336</td>\n",
       "      <td>670</td>\n",
       "      <td>869</td>\n",
       "      <td>18</td>\n",
       "      <td>10</td>\n",
       "      <td>19</td>\n",
       "      <td>1</td>\n",
       "      <td>1</td>\n",
       "      <td>1</td>\n",
       "    </tr>\n",
       "    <tr>\n",
       "      <th>1999</th>\n",
       "      <td>510</td>\n",
       "      <td>1</td>\n",
       "      <td>2.0</td>\n",
       "      <td>1</td>\n",
       "      <td>5</td>\n",
       "      <td>1</td>\n",
       "      <td>45</td>\n",
       "      <td>0.9</td>\n",
       "      <td>168</td>\n",
       "      <td>6</td>\n",
       "      <td>16</td>\n",
       "      <td>483</td>\n",
       "      <td>754</td>\n",
       "      <td>3919</td>\n",
       "      <td>19</td>\n",
       "      <td>4</td>\n",
       "      <td>2</td>\n",
       "      <td>1</td>\n",
       "      <td>1</td>\n",
       "      <td>1</td>\n",
       "    </tr>\n",
       "  </tbody>\n",
       "</table>\n",
       "<p>2000 rows × 20 columns</p>\n",
       "</div>"
      ]
     },
     "execution_count": 3,
     "metadata": {},
     "output_type": "execute_result"
    }
   ],
   "execution_count": 3
  },
  {
   "cell_type": "code",
   "id": "ec2df62448a2f0b7",
   "metadata": {
    "ExecuteTime": {
     "end_time": "2025-06-22T19:38:23.428378Z",
     "start_time": "2025-06-22T19:38:23.423212Z"
    }
   },
   "source": [
    "y"
   ],
   "outputs": [
    {
     "data": {
      "text/plain": [
       "0       1\n",
       "1       2\n",
       "2       2\n",
       "3       2\n",
       "4       1\n",
       "       ..\n",
       "1995    0\n",
       "1996    2\n",
       "1997    3\n",
       "1998    0\n",
       "1999    3\n",
       "Name: price_range, Length: 2000, dtype: int64"
      ]
     },
     "execution_count": 4,
     "metadata": {},
     "output_type": "execute_result"
    }
   ],
   "execution_count": 4
  },
  {
   "cell_type": "code",
   "id": "df501cdad33585fe",
   "metadata": {
    "ExecuteTime": {
     "end_time": "2025-06-22T19:38:23.556831Z",
     "start_time": "2025-06-22T19:38:23.553356Z"
    }
   },
   "source": [
    "x_train, x_valid, y_train, y_valid = train_test_split(x, y, train_size=0.7, random_state=42)"
   ],
   "outputs": [],
   "execution_count": 5
  },
  {
   "cell_type": "code",
   "id": "318a36bfcc09e5c9",
   "metadata": {
    "ExecuteTime": {
     "end_time": "2025-06-22T19:38:23.782924Z",
     "start_time": "2025-06-22T19:38:23.774253Z"
    }
   },
   "source": [
    "x_train"
   ],
   "outputs": [
    {
     "data": {
      "text/plain": [
       "      battery_power  blue  clock_speed  dual_sim  fc  four_g  int_memory  \\\n",
       "836             902     1          0.6         1   0       0          63   \n",
       "575            1197     1          0.5         1   9       0          20   \n",
       "557            1519     0          2.1         0   0       0          32   \n",
       "1235           1971     1          0.5         1   0       0          40   \n",
       "1360            882     0          0.7         1   9       1          28   \n",
       "...             ...   ...          ...       ...  ..     ...         ...   \n",
       "1130           1975     1          1.9         1   2       0          31   \n",
       "1294            589     1          0.5         0   1       1          59   \n",
       "860            1829     1          0.5         0   0       1          15   \n",
       "1459           1927     0          0.9         1   3       0          11   \n",
       "1126            635     1          0.6         1   1       1          50   \n",
       "\n",
       "      m_dep  mobile_wt  n_cores  pc  px_height  px_width   ram  sc_h  sc_w  \\\n",
       "836     0.7        122        5  14        364      1360  3654    18     8   \n",
       "575     0.1        129        5  10        214      1710  2885    19     7   \n",
       "557     0.7        200        1  10        168      1239  2912    11    10   \n",
       "1235    0.3        186        7  19        485       922   571     8     7   \n",
       "1360    0.2        151        6  16        248       884   751    19    11   \n",
       "...     ...        ...      ...  ..        ...       ...   ...   ...   ...   \n",
       "1130    0.9        151        1  17        775      1607  3022    13     5   \n",
       "1294    0.7        146        8   4        759      1858   362    16    10   \n",
       "860     0.4        160        5   7        729      1267  2080    16    11   \n",
       "1459    0.4        190        8  12        491      1506  2916    16    11   \n",
       "1126    0.3         97        5  13        193       989  2107    13    12   \n",
       "\n",
       "      talk_time  three_g  touch_screen  wifi  \n",
       "836          15        0             1     1  \n",
       "575          14        1             1     1  \n",
       "557          15        1             1     0  \n",
       "1235         17        1             1     0  \n",
       "1360          8        1             0     1  \n",
       "...         ...      ...           ...   ...  \n",
       "1130         19        0             0     1  \n",
       "1294          6        1             1     1  \n",
       "860          12        1             0     1  \n",
       "1459         18        0             1     1  \n",
       "1126         12        1             0     0  \n",
       "\n",
       "[1400 rows x 20 columns]"
      ],
      "text/html": [
       "<div>\n",
       "<style scoped>\n",
       "    .dataframe tbody tr th:only-of-type {\n",
       "        vertical-align: middle;\n",
       "    }\n",
       "\n",
       "    .dataframe tbody tr th {\n",
       "        vertical-align: top;\n",
       "    }\n",
       "\n",
       "    .dataframe thead th {\n",
       "        text-align: right;\n",
       "    }\n",
       "</style>\n",
       "<table border=\"1\" class=\"dataframe\">\n",
       "  <thead>\n",
       "    <tr style=\"text-align: right;\">\n",
       "      <th></th>\n",
       "      <th>battery_power</th>\n",
       "      <th>blue</th>\n",
       "      <th>clock_speed</th>\n",
       "      <th>dual_sim</th>\n",
       "      <th>fc</th>\n",
       "      <th>four_g</th>\n",
       "      <th>int_memory</th>\n",
       "      <th>m_dep</th>\n",
       "      <th>mobile_wt</th>\n",
       "      <th>n_cores</th>\n",
       "      <th>pc</th>\n",
       "      <th>px_height</th>\n",
       "      <th>px_width</th>\n",
       "      <th>ram</th>\n",
       "      <th>sc_h</th>\n",
       "      <th>sc_w</th>\n",
       "      <th>talk_time</th>\n",
       "      <th>three_g</th>\n",
       "      <th>touch_screen</th>\n",
       "      <th>wifi</th>\n",
       "    </tr>\n",
       "  </thead>\n",
       "  <tbody>\n",
       "    <tr>\n",
       "      <th>836</th>\n",
       "      <td>902</td>\n",
       "      <td>1</td>\n",
       "      <td>0.6</td>\n",
       "      <td>1</td>\n",
       "      <td>0</td>\n",
       "      <td>0</td>\n",
       "      <td>63</td>\n",
       "      <td>0.7</td>\n",
       "      <td>122</td>\n",
       "      <td>5</td>\n",
       "      <td>14</td>\n",
       "      <td>364</td>\n",
       "      <td>1360</td>\n",
       "      <td>3654</td>\n",
       "      <td>18</td>\n",
       "      <td>8</td>\n",
       "      <td>15</td>\n",
       "      <td>0</td>\n",
       "      <td>1</td>\n",
       "      <td>1</td>\n",
       "    </tr>\n",
       "    <tr>\n",
       "      <th>575</th>\n",
       "      <td>1197</td>\n",
       "      <td>1</td>\n",
       "      <td>0.5</td>\n",
       "      <td>1</td>\n",
       "      <td>9</td>\n",
       "      <td>0</td>\n",
       "      <td>20</td>\n",
       "      <td>0.1</td>\n",
       "      <td>129</td>\n",
       "      <td>5</td>\n",
       "      <td>10</td>\n",
       "      <td>214</td>\n",
       "      <td>1710</td>\n",
       "      <td>2885</td>\n",
       "      <td>19</td>\n",
       "      <td>7</td>\n",
       "      <td>14</td>\n",
       "      <td>1</td>\n",
       "      <td>1</td>\n",
       "      <td>1</td>\n",
       "    </tr>\n",
       "    <tr>\n",
       "      <th>557</th>\n",
       "      <td>1519</td>\n",
       "      <td>0</td>\n",
       "      <td>2.1</td>\n",
       "      <td>0</td>\n",
       "      <td>0</td>\n",
       "      <td>0</td>\n",
       "      <td>32</td>\n",
       "      <td>0.7</td>\n",
       "      <td>200</td>\n",
       "      <td>1</td>\n",
       "      <td>10</td>\n",
       "      <td>168</td>\n",
       "      <td>1239</td>\n",
       "      <td>2912</td>\n",
       "      <td>11</td>\n",
       "      <td>10</td>\n",
       "      <td>15</td>\n",
       "      <td>1</td>\n",
       "      <td>1</td>\n",
       "      <td>0</td>\n",
       "    </tr>\n",
       "    <tr>\n",
       "      <th>1235</th>\n",
       "      <td>1971</td>\n",
       "      <td>1</td>\n",
       "      <td>0.5</td>\n",
       "      <td>1</td>\n",
       "      <td>0</td>\n",
       "      <td>0</td>\n",
       "      <td>40</td>\n",
       "      <td>0.3</td>\n",
       "      <td>186</td>\n",
       "      <td>7</td>\n",
       "      <td>19</td>\n",
       "      <td>485</td>\n",
       "      <td>922</td>\n",
       "      <td>571</td>\n",
       "      <td>8</td>\n",
       "      <td>7</td>\n",
       "      <td>17</td>\n",
       "      <td>1</td>\n",
       "      <td>1</td>\n",
       "      <td>0</td>\n",
       "    </tr>\n",
       "    <tr>\n",
       "      <th>1360</th>\n",
       "      <td>882</td>\n",
       "      <td>0</td>\n",
       "      <td>0.7</td>\n",
       "      <td>1</td>\n",
       "      <td>9</td>\n",
       "      <td>1</td>\n",
       "      <td>28</td>\n",
       "      <td>0.2</td>\n",
       "      <td>151</td>\n",
       "      <td>6</td>\n",
       "      <td>16</td>\n",
       "      <td>248</td>\n",
       "      <td>884</td>\n",
       "      <td>751</td>\n",
       "      <td>19</td>\n",
       "      <td>11</td>\n",
       "      <td>8</td>\n",
       "      <td>1</td>\n",
       "      <td>0</td>\n",
       "      <td>1</td>\n",
       "    </tr>\n",
       "    <tr>\n",
       "      <th>...</th>\n",
       "      <td>...</td>\n",
       "      <td>...</td>\n",
       "      <td>...</td>\n",
       "      <td>...</td>\n",
       "      <td>...</td>\n",
       "      <td>...</td>\n",
       "      <td>...</td>\n",
       "      <td>...</td>\n",
       "      <td>...</td>\n",
       "      <td>...</td>\n",
       "      <td>...</td>\n",
       "      <td>...</td>\n",
       "      <td>...</td>\n",
       "      <td>...</td>\n",
       "      <td>...</td>\n",
       "      <td>...</td>\n",
       "      <td>...</td>\n",
       "      <td>...</td>\n",
       "      <td>...</td>\n",
       "      <td>...</td>\n",
       "    </tr>\n",
       "    <tr>\n",
       "      <th>1130</th>\n",
       "      <td>1975</td>\n",
       "      <td>1</td>\n",
       "      <td>1.9</td>\n",
       "      <td>1</td>\n",
       "      <td>2</td>\n",
       "      <td>0</td>\n",
       "      <td>31</td>\n",
       "      <td>0.9</td>\n",
       "      <td>151</td>\n",
       "      <td>1</td>\n",
       "      <td>17</td>\n",
       "      <td>775</td>\n",
       "      <td>1607</td>\n",
       "      <td>3022</td>\n",
       "      <td>13</td>\n",
       "      <td>5</td>\n",
       "      <td>19</td>\n",
       "      <td>0</td>\n",
       "      <td>0</td>\n",
       "      <td>1</td>\n",
       "    </tr>\n",
       "    <tr>\n",
       "      <th>1294</th>\n",
       "      <td>589</td>\n",
       "      <td>1</td>\n",
       "      <td>0.5</td>\n",
       "      <td>0</td>\n",
       "      <td>1</td>\n",
       "      <td>1</td>\n",
       "      <td>59</td>\n",
       "      <td>0.7</td>\n",
       "      <td>146</td>\n",
       "      <td>8</td>\n",
       "      <td>4</td>\n",
       "      <td>759</td>\n",
       "      <td>1858</td>\n",
       "      <td>362</td>\n",
       "      <td>16</td>\n",
       "      <td>10</td>\n",
       "      <td>6</td>\n",
       "      <td>1</td>\n",
       "      <td>1</td>\n",
       "      <td>1</td>\n",
       "    </tr>\n",
       "    <tr>\n",
       "      <th>860</th>\n",
       "      <td>1829</td>\n",
       "      <td>1</td>\n",
       "      <td>0.5</td>\n",
       "      <td>0</td>\n",
       "      <td>0</td>\n",
       "      <td>1</td>\n",
       "      <td>15</td>\n",
       "      <td>0.4</td>\n",
       "      <td>160</td>\n",
       "      <td>5</td>\n",
       "      <td>7</td>\n",
       "      <td>729</td>\n",
       "      <td>1267</td>\n",
       "      <td>2080</td>\n",
       "      <td>16</td>\n",
       "      <td>11</td>\n",
       "      <td>12</td>\n",
       "      <td>1</td>\n",
       "      <td>0</td>\n",
       "      <td>1</td>\n",
       "    </tr>\n",
       "    <tr>\n",
       "      <th>1459</th>\n",
       "      <td>1927</td>\n",
       "      <td>0</td>\n",
       "      <td>0.9</td>\n",
       "      <td>1</td>\n",
       "      <td>3</td>\n",
       "      <td>0</td>\n",
       "      <td>11</td>\n",
       "      <td>0.4</td>\n",
       "      <td>190</td>\n",
       "      <td>8</td>\n",
       "      <td>12</td>\n",
       "      <td>491</td>\n",
       "      <td>1506</td>\n",
       "      <td>2916</td>\n",
       "      <td>16</td>\n",
       "      <td>11</td>\n",
       "      <td>18</td>\n",
       "      <td>0</td>\n",
       "      <td>1</td>\n",
       "      <td>1</td>\n",
       "    </tr>\n",
       "    <tr>\n",
       "      <th>1126</th>\n",
       "      <td>635</td>\n",
       "      <td>1</td>\n",
       "      <td>0.6</td>\n",
       "      <td>1</td>\n",
       "      <td>1</td>\n",
       "      <td>1</td>\n",
       "      <td>50</td>\n",
       "      <td>0.3</td>\n",
       "      <td>97</td>\n",
       "      <td>5</td>\n",
       "      <td>13</td>\n",
       "      <td>193</td>\n",
       "      <td>989</td>\n",
       "      <td>2107</td>\n",
       "      <td>13</td>\n",
       "      <td>12</td>\n",
       "      <td>12</td>\n",
       "      <td>1</td>\n",
       "      <td>0</td>\n",
       "      <td>0</td>\n",
       "    </tr>\n",
       "  </tbody>\n",
       "</table>\n",
       "<p>1400 rows × 20 columns</p>\n",
       "</div>"
      ]
     },
     "execution_count": 6,
     "metadata": {},
     "output_type": "execute_result"
    }
   ],
   "execution_count": 6
  },
  {
   "cell_type": "markdown",
   "id": "ae88a672c7fe33f9",
   "metadata": {},
   "source": [
    "---\n",
    "### Preprocessing"
   ]
  },
  {
   "cell_type": "code",
   "id": "c9d7c8a34b372314",
   "metadata": {
    "ExecuteTime": {
     "end_time": "2025-06-22T19:38:23.833899Z",
     "start_time": "2025-06-22T19:38:23.830434Z"
    }
   },
   "source": [
    "x_train = torch.FloatTensor(x_train.values)\n",
    "y_train = torch.LongTensor(y_train.values)"
   ],
   "outputs": [],
   "execution_count": 7
  },
  {
   "cell_type": "code",
   "id": "34ab5a5fc8991328",
   "metadata": {
    "ExecuteTime": {
     "end_time": "2025-06-22T19:38:23.962035Z",
     "start_time": "2025-06-22T19:38:23.958988Z"
    }
   },
   "source": [
    "x_valid = torch.FloatTensor(x_valid.values)\n",
    "y_valid = torch.LongTensor(y_valid.values)"
   ],
   "outputs": [],
   "execution_count": 8
  },
  {
   "cell_type": "markdown",
   "id": "401245d805079bee",
   "metadata": {},
   "source": [
    "---\n",
    "### Normalization (Standardization)"
   ]
  },
  {
   "cell_type": "code",
   "id": "e72bbe6790a2010c",
   "metadata": {
    "ExecuteTime": {
     "end_time": "2025-06-22T19:38:24.070999Z",
     "start_time": "2025-06-22T19:38:24.066741Z"
    }
   },
   "source": [
    "mu = x_train.mean(dim=0)\n",
    "std = x_train.std(dim=0)\n",
    "x_train = (x_train - mu) / std\n",
    "x_valid = (x_valid - mu) / std"
   ],
   "outputs": [],
   "execution_count": 9
  },
  {
   "cell_type": "markdown",
   "id": "3f5b681d9d97e090",
   "metadata": {},
   "source": [
    "---\n",
    "### Dataloader"
   ]
  },
  {
   "cell_type": "code",
   "id": "ff5cbd21495335c7",
   "metadata": {
    "ExecuteTime": {
     "end_time": "2025-06-22T19:38:24.101045Z",
     "start_time": "2025-06-22T19:38:24.098519Z"
    }
   },
   "source": [
    "train_dataset = TensorDataset(x_train, y_train)\n",
    "train_loader = DataLoader(train_dataset, batch_size=600, shuffle=True)\n",
    "\n",
    "valid_dataset = TensorDataset(x_valid, y_valid)\n",
    "valid_loader = DataLoader(valid_dataset, batch_size=800, shuffle=False)"
   ],
   "outputs": [],
   "execution_count": 10
  },
  {
   "cell_type": "markdown",
   "id": "2ee614f3c1bc1e68",
   "metadata": {},
   "source": [
    "---\n",
    "### Define Model"
   ]
  },
  {
   "metadata": {},
   "cell_type": "markdown",
   "source": "##### Device",
   "id": "a956cec1aa5c371c"
  },
  {
   "metadata": {
    "ExecuteTime": {
     "end_time": "2025-06-22T19:38:25.707414Z",
     "start_time": "2025-06-22T19:38:24.136102Z"
    }
   },
   "cell_type": "code",
   "source": [
    "device = 'cuda' if torch.cuda.is_available() else 'cpu'\n",
    "device"
   ],
   "id": "7aaeca83de74ef4d",
   "outputs": [
    {
     "data": {
      "text/plain": [
       "'cuda'"
      ]
     },
     "execution_count": 11,
     "metadata": {},
     "output_type": "execute_result"
    }
   ],
   "execution_count": 11
  },
  {
   "metadata": {},
   "cell_type": "markdown",
   "source": "##### Model",
   "id": "9508e31d9beaba82"
  },
  {
   "cell_type": "code",
   "id": "8531f484d1c8635d",
   "metadata": {
    "ExecuteTime": {
     "end_time": "2025-06-22T19:38:25.733954Z",
     "start_time": "2025-06-22T19:38:25.731333Z"
    }
   },
   "source": [
    "def define_model():\n",
    "    \"\"\"\n",
    "    Defining the model with this method.\n",
    "    :return: The model that convert to device (CUDA if accessible and CPU if not)\n",
    "    \"\"\"\n",
    "\n",
    "    num_feats = 20\n",
    "    out_feats = 4\n",
    "    h1 = 64\n",
    "    h2 = 32\n",
    "\n",
    "    model = torch.nn.Sequential(torch.nn.Linear(num_feats, h1),\n",
    "                                torch.nn.ReLU(),\n",
    "                                # torch.nn.Dropout(0.5),\n",
    "                                torch.nn.Linear(h1, h2),\n",
    "                                torch.nn.ReLU(),\n",
    "                                torch.nn.Linear(h2, out_feats))\n",
    "    model.to(device)\n",
    "    return model"
   ],
   "outputs": [],
   "execution_count": 12
  },
  {
   "cell_type": "markdown",
   "id": "da06a9b37f92a792",
   "metadata": {},
   "source": [
    "---\n",
    "### Loss Function"
   ]
  },
  {
   "cell_type": "code",
   "id": "13229dac0ddc87d7",
   "metadata": {
    "ExecuteTime": {
     "end_time": "2025-06-22T19:38:25.764986Z",
     "start_time": "2025-06-22T19:38:25.762995Z"
    }
   },
   "source": "loss_fn = torch.nn.CrossEntropyLoss()",
   "outputs": [],
   "execution_count": 13
  },
  {
   "cell_type": "markdown",
   "id": "6e1ae78ad8e8f0ac",
   "metadata": {},
   "source": [
    "---\n",
    "### AverageMeter"
   ]
  },
  {
   "cell_type": "code",
   "id": "2a6e2c980373ee59",
   "metadata": {
    "ExecuteTime": {
     "end_time": "2025-06-22T19:38:25.793442Z",
     "start_time": "2025-06-22T19:38:25.789442Z"
    }
   },
   "source": [
    "class AverageMeter(object):\n",
    "    \"\"\"Computes and stores the average and current value\"\"\"\n",
    "\n",
    "    def __init__(self):\n",
    "        self.reset()\n",
    "\n",
    "    def reset(self):\n",
    "        self.val = 0\n",
    "        self.avg = 0\n",
    "        self.sum = 0\n",
    "        self.count = 0\n",
    "\n",
    "    def update(self, val, n=1):\n",
    "        self.val = val\n",
    "        self.sum += val * n\n",
    "        self.count += n\n",
    "        self.avg = self.sum / self.count"
   ],
   "outputs": [],
   "execution_count": 14
  },
  {
   "cell_type": "markdown",
   "id": "dd5152dd072c3d93",
   "metadata": {},
   "source": [
    "---\n",
    "### Methods of train and validate model:"
   ]
  },
  {
   "cell_type": "code",
   "id": "4dc7a1e855c2638f",
   "metadata": {
    "ExecuteTime": {
     "end_time": "2025-06-22T19:38:25.812803Z",
     "start_time": "2025-06-22T19:38:25.808784Z"
    }
   },
   "source": [
    "def train_one_epoch(model, train_loader, loss_fn, optimizer, epoch, disable_log=False):\n",
    "    \"\"\"\n",
    "    Train one epoch of your model with this method.\n",
    "    :param model: The model to be trained.\n",
    "    :param train_loader: The data loader of the training data.\n",
    "    :param loss_fn: The loss function.\n",
    "    :param optimizer: The optimizer.\n",
    "    :param epoch: The current epoch.\n",
    "    :param disable_log: Pass it True to disable log while training.\n",
    "    :return: The trained model of that epoch, the loss of train, the accuracy of train and the f1-score of train\n",
    "    \"\"\"\n",
    "\n",
    "    model.train()\n",
    "    loss_train = AverageMeter()\n",
    "    acc_train = Accuracy(task=\"multiclass\", num_classes=4).to(device)\n",
    "    f1_train = F1Score(task=\"multiclass\", num_classes=4).to(device)\n",
    "\n",
    "    with tqdm(train_loader, unit='batch', disable=disable_log) as t_loader:\n",
    "        for data, target in t_loader:\n",
    "            data = data.to(device)\n",
    "            target = target.to(device)\n",
    "\n",
    "            predict = model(data)\n",
    "            loss = loss_fn(predict.squeeze(), target)\n",
    "            loss.backward()\n",
    "            optimizer.step()\n",
    "            optimizer.zero_grad()\n",
    "\n",
    "            loss_train.update(loss.item())\n",
    "            acc_train(predict, target)\n",
    "            f1_train(predict, target)\n",
    "\n",
    "            t_loader.set_description(f\"Epoch: {epoch}\")\n",
    "            t_loader.set_postfix(loss=loss_train.avg,\n",
    "                                 accuracy=f\"{(acc_train.compute().cpu().item() * 100):.4}%\",\n",
    "                                 f1=f\"{(f1_train.compute().cpu().item() * 100):.4}%\")\n",
    "\n",
    "    return model, loss_train.avg, acc_train.compute(), f1_train.compute()"
   ],
   "outputs": [],
   "execution_count": 15
  },
  {
   "cell_type": "code",
   "id": "49874c3dca148bf3",
   "metadata": {
    "ExecuteTime": {
     "end_time": "2025-06-22T19:38:25.836415Z",
     "start_time": "2025-06-22T19:38:25.831411Z"
    }
   },
   "source": [
    "def valid_one_epoch(model, valid_loader, loss_fn):\n",
    "    \"\"\"\n",
    "    Validate one epoch of your model with this method.\n",
    "    :param model: The model to be validated.\n",
    "    :param valid_loader: The data loader of the validation data.\n",
    "    :param loss_fn: The loss function.\n",
    "    :return: The loss of validation, the accuracy of validation and the f1-score of validation\n",
    "    \"\"\"\n",
    "\n",
    "    model.eval()\n",
    "    with torch.no_grad():\n",
    "        loss_valid = AverageMeter()\n",
    "        acc_valid = Accuracy(task=\"multiclass\", num_classes=4).to(device)\n",
    "        f1_valid = F1Score(task=\"multiclass\", num_classes=4).to(device)\n",
    "        for data, target in valid_loader:\n",
    "            data = data.to(device)\n",
    "            target = target.to(device)\n",
    "\n",
    "            predict = model(data)\n",
    "            loss = loss_fn(predict.squeeze(), target)\n",
    "\n",
    "            loss_valid.update(loss.item())\n",
    "            acc_valid(predict, target)\n",
    "            f1_valid(predict, target)\n",
    "\n",
    "    return loss_valid.avg, acc_valid.compute(), f1_valid.compute()"
   ],
   "outputs": [],
   "execution_count": 16
  },
  {
   "metadata": {},
   "cell_type": "markdown",
   "source": [
    "---\n",
    "#### Select best Learning Rate and Weight decay"
   ],
   "id": "3b4435983b0343d1"
  },
  {
   "metadata": {
    "ExecuteTime": {
     "end_time": "2025-06-22T19:38:25.859359Z",
     "start_time": "2025-06-22T19:38:25.856430Z"
    }
   },
   "cell_type": "code",
   "source": [
    "list_for_table_loss_train = []\n",
    "list_for_table_acc_train = []\n",
    "list_weight_decays = ['(⬇️LR) (WD➡️)', 0, 1e-4, 1e-5, 1e-6]"
   ],
   "id": "8c1927cbb68f66d3",
   "outputs": [],
   "execution_count": 17
  },
  {
   "metadata": {
    "ExecuteTime": {
     "end_time": "2025-06-22T19:38:33.279954Z",
     "start_time": "2025-06-22T19:38:25.881374Z"
    }
   },
   "cell_type": "code",
   "source": [
    "for confidence in [1, 0.1, 0.01, 0.001]:\n",
    "    for lr in [0.1, 0.15, 0.2, 0.25, 0.3]:\n",
    "        temp_list_loss_train = [round(lr * confidence, 5)]\n",
    "        temp_list_acc_train = [round(lr * confidence, 5)]\n",
    "\n",
    "        for wd in [0., 1e-4, 1e-5, 1e-6]:\n",
    "            model = define_model()\n",
    "            # optimizer = torch.optim.SGD(model.parameters(), lr=(lr * confidence), weight_decay=wd)\n",
    "            # optimizer = torch.optim.RMSprop(model.parameters(), alpha=0.99, lr=(lr * confidence), weight_decay=wd)\n",
    "            optimizer = torch.optim.Adam(model.parameters(), lr=(lr * confidence), weight_decay=wd, betas=(0.9, 0.999))\n",
    "\n",
    "            print(f'LR={lr * confidence}, WD={wd}')\n",
    "            for epoch in range(5):\n",
    "                model, loss_train, acc_train, _ = train_one_epoch(model=model,\n",
    "                                                                  train_loader=train_loader,\n",
    "                                                                  loss_fn=loss_fn,\n",
    "                                                                  optimizer=optimizer,\n",
    "                                                                  epoch=epoch,\n",
    "                                                                  disable_log=True)\n",
    "                if epoch == 4:\n",
    "                    temp_list_loss_train.append(round(loss_train, 3))\n",
    "                    temp_list_acc_train.append(f\"{(acc_train.item() * 100):.3}%\")\n",
    "\n",
    "        list_for_table_loss_train.append(temp_list_loss_train)\n",
    "        list_for_table_acc_train.append(temp_list_acc_train)"
   ],
   "id": "7fac69515b4adf0a",
   "outputs": [
    {
     "name": "stdout",
     "output_type": "stream",
     "text": [
      "LR=0.1, WD=0.0\n",
      "LR=0.1, WD=0.0001\n",
      "LR=0.1, WD=1e-05\n",
      "LR=0.1, WD=1e-06\n",
      "LR=0.15, WD=0.0\n",
      "LR=0.15, WD=0.0001\n",
      "LR=0.15, WD=1e-05\n",
      "LR=0.15, WD=1e-06\n",
      "LR=0.2, WD=0.0\n",
      "LR=0.2, WD=0.0001\n",
      "LR=0.2, WD=1e-05\n",
      "LR=0.2, WD=1e-06\n",
      "LR=0.25, WD=0.0\n",
      "LR=0.25, WD=0.0001\n",
      "LR=0.25, WD=1e-05\n",
      "LR=0.25, WD=1e-06\n",
      "LR=0.3, WD=0.0\n",
      "LR=0.3, WD=0.0001\n",
      "LR=0.3, WD=1e-05\n",
      "LR=0.3, WD=1e-06\n",
      "LR=0.010000000000000002, WD=0.0\n",
      "LR=0.010000000000000002, WD=0.0001\n",
      "LR=0.010000000000000002, WD=1e-05\n",
      "LR=0.010000000000000002, WD=1e-06\n",
      "LR=0.015, WD=0.0\n",
      "LR=0.015, WD=0.0001\n",
      "LR=0.015, WD=1e-05\n",
      "LR=0.015, WD=1e-06\n",
      "LR=0.020000000000000004, WD=0.0\n",
      "LR=0.020000000000000004, WD=0.0001\n",
      "LR=0.020000000000000004, WD=1e-05\n",
      "LR=0.020000000000000004, WD=1e-06\n",
      "LR=0.025, WD=0.0\n",
      "LR=0.025, WD=0.0001\n",
      "LR=0.025, WD=1e-05\n",
      "LR=0.025, WD=1e-06\n",
      "LR=0.03, WD=0.0\n",
      "LR=0.03, WD=0.0001\n",
      "LR=0.03, WD=1e-05\n",
      "LR=0.03, WD=1e-06\n",
      "LR=0.001, WD=0.0\n",
      "LR=0.001, WD=0.0001\n",
      "LR=0.001, WD=1e-05\n",
      "LR=0.001, WD=1e-06\n",
      "LR=0.0015, WD=0.0\n",
      "LR=0.0015, WD=0.0001\n",
      "LR=0.0015, WD=1e-05\n",
      "LR=0.0015, WD=1e-06\n",
      "LR=0.002, WD=0.0\n",
      "LR=0.002, WD=0.0001\n",
      "LR=0.002, WD=1e-05\n",
      "LR=0.002, WD=1e-06\n",
      "LR=0.0025, WD=0.0\n",
      "LR=0.0025, WD=0.0001\n",
      "LR=0.0025, WD=1e-05\n",
      "LR=0.0025, WD=1e-06\n",
      "LR=0.003, WD=0.0\n",
      "LR=0.003, WD=0.0001\n",
      "LR=0.003, WD=1e-05\n",
      "LR=0.003, WD=1e-06\n",
      "LR=0.0001, WD=0.0\n",
      "LR=0.0001, WD=0.0001\n",
      "LR=0.0001, WD=1e-05\n",
      "LR=0.0001, WD=1e-06\n",
      "LR=0.00015, WD=0.0\n",
      "LR=0.00015, WD=0.0001\n",
      "LR=0.00015, WD=1e-05\n",
      "LR=0.00015, WD=1e-06\n",
      "LR=0.0002, WD=0.0\n",
      "LR=0.0002, WD=0.0001\n",
      "LR=0.0002, WD=1e-05\n",
      "LR=0.0002, WD=1e-06\n",
      "LR=0.00025, WD=0.0\n",
      "LR=0.00025, WD=0.0001\n",
      "LR=0.00025, WD=1e-05\n",
      "LR=0.00025, WD=1e-06\n",
      "LR=0.0003, WD=0.0\n",
      "LR=0.0003, WD=0.0001\n",
      "LR=0.0003, WD=1e-05\n",
      "LR=0.0003, WD=1e-06\n"
     ]
    }
   ],
   "execution_count": 18
  },
  {
   "metadata": {},
   "cell_type": "markdown",
   "source": "#### Show tabular data",
   "id": "dfcfb5f6651eaa2c"
  },
  {
   "metadata": {
    "ExecuteTime": {
     "end_time": "2025-06-22T19:38:33.346161Z",
     "start_time": "2025-06-22T19:38:33.342857Z"
    }
   },
   "cell_type": "code",
   "source": [
    "def show_tabular_data(field_names, rows):\n",
    "    \"\"\"\n",
    "    Show data tabular with PrettyTable.\n",
    "    :param field_names: The names of header of the table.\n",
    "    :param rows: The data rows.\n",
    "    :return: None (Print the table in console)\n",
    "    \"\"\"\n",
    "\n",
    "    table = PrettyTable()\n",
    "    table.align = \"c\"\n",
    "    table.field_names = field_names\n",
    "    table.add_rows(rows)\n",
    "    print(table)"
   ],
   "id": "e35dc4905a17874c",
   "outputs": [],
   "execution_count": 19
  },
  {
   "metadata": {},
   "cell_type": "markdown",
   "source": "##### Table loss train",
   "id": "70d24189b3fe89ae"
  },
  {
   "metadata": {
    "ExecuteTime": {
     "end_time": "2025-06-22T19:38:33.368034Z",
     "start_time": "2025-06-22T19:38:33.363202Z"
    }
   },
   "cell_type": "code",
   "source": "show_tabular_data(field_names=list_weight_decays, rows=list_for_table_loss_train)",
   "id": "1cb8cef4549c890b",
   "outputs": [
    {
     "name": "stdout",
     "output_type": "stream",
     "text": [
      "+---------------+-------+--------+-------+-------+\n",
      "| (⬇️LR) (WD➡️) |   0   | 0.0001 | 1e-05 | 1e-06 |\n",
      "+---------------+-------+--------+-------+-------+\n",
      "|      0.1      | 0.253 | 0.404  | 0.509 | 0.233 |\n",
      "|      0.15     | 0.589 | 0.492  | 1.242 | 0.583 |\n",
      "|      0.2      | 0.707 | 0.659  | 0.855 | 0.539 |\n",
      "|      0.25     | 1.287 |  1.4   | 1.312 | 0.773 |\n",
      "|      0.3      | 1.372 |  1.13  | 1.256 | 1.363 |\n",
      "|      0.01     | 0.604 | 0.636  | 0.599 | 0.599 |\n",
      "|     0.015     | 0.366 | 0.422  | 0.371 | 0.437 |\n",
      "|      0.02     | 0.292 | 0.289  | 0.314 |  0.33 |\n",
      "|     0.025     |  0.25 | 0.209  | 0.194 |  0.21 |\n",
      "|      0.03     | 0.165 | 0.229  | 0.193 | 0.154 |\n",
      "|     0.001     |  1.34 | 1.343  | 1.353 | 1.344 |\n",
      "|     0.0015    | 1.321 | 1.336  | 1.329 | 1.353 |\n",
      "|     0.002     | 1.277 |  1.31  | 1.262 | 1.287 |\n",
      "|     0.0025    | 1.283 | 1.214  | 1.249 | 1.236 |\n",
      "|     0.003     | 1.181 | 1.195  | 1.196 | 1.215 |\n",
      "|     0.0001    | 1.385 | 1.395  | 1.389 | 1.386 |\n",
      "|    0.00015    | 1.388 | 1.385  | 1.389 | 1.391 |\n",
      "|     0.0002    | 1.387 |  1.39  | 1.396 | 1.385 |\n",
      "|    0.00025    |  1.39 | 1.387  |  1.37 | 1.368 |\n",
      "|     0.0003    |  1.38 | 1.383  | 1.377 |  1.38 |\n",
      "+---------------+-------+--------+-------+-------+\n"
     ]
    }
   ],
   "execution_count": 20
  },
  {
   "metadata": {},
   "cell_type": "markdown",
   "source": "##### Table accuracy train",
   "id": "6a937ca7baaa656c"
  },
  {
   "metadata": {
    "ExecuteTime": {
     "end_time": "2025-06-22T19:38:33.415400Z",
     "start_time": "2025-06-22T19:38:33.411048Z"
    }
   },
   "cell_type": "code",
   "source": "show_tabular_data(field_names=list_weight_decays, rows=list_for_table_acc_train)",
   "id": "980d91ddba772e2a",
   "outputs": [
    {
     "name": "stdout",
     "output_type": "stream",
     "text": [
      "+---------------+-------+--------+-------+-------+\n",
      "| (⬇️LR) (WD➡️) |   0   | 0.0001 | 1e-05 | 1e-06 |\n",
      "+---------------+-------+--------+-------+-------+\n",
      "|      0.1      | 90.4% | 85.0%  | 76.2% | 90.9% |\n",
      "|      0.15     | 75.9% | 78.8%  | 40.2% | 73.3% |\n",
      "|      0.2      | 66.0% | 68.5%  | 59.1% | 82.8% |\n",
      "|      0.25     | 25.6% | 23.8%  | 33.7% | 63.8% |\n",
      "|      0.3      | 32.4% | 42.7%  | 34.2% | 28.1% |\n",
      "|      0.01     | 81.3% | 80.8%  | 80.9% | 82.2% |\n",
      "|     0.015     | 87.4% | 87.2%  | 88.7% | 86.6% |\n",
      "|      0.02     | 90.4% | 91.3%  | 88.9% | 89.3% |\n",
      "|     0.025     | 89.3% | 93.1%  | 94.1% | 93.0% |\n",
      "|      0.03     | 93.1% | 90.9%  | 92.4% | 94.9% |\n",
      "|     0.001     | 39.3% | 44.6%  | 37.5% | 40.6% |\n",
      "|     0.0015    | 48.0% | 45.2%  | 46.9% | 45.9% |\n",
      "|     0.002     | 49.4% | 52.4%  | 60.7% | 55.9% |\n",
      "|     0.0025    | 52.1% | 57.3%  | 55.4% | 55.0% |\n",
      "|     0.003     | 59.9% | 60.3%  | 57.4% | 59.9% |\n",
      "|     0.0001    | 25.8% | 24.4%  | 25.1% | 25.5% |\n",
      "|    0.00015    | 25.4% | 27.1%  | 26.9% | 26.2% |\n",
      "|     0.0002    | 25.9% | 27.4%  | 24.5% | 31.6% |\n",
      "|    0.00025    | 26.5% | 26.1%  | 34.1% | 35.0% |\n",
      "|     0.0003    | 24.8% | 28.1%  | 25.0% | 27.1% |\n",
      "+---------------+-------+--------+-------+-------+\n"
     ]
    }
   ],
   "execution_count": 21
  },
  {
   "metadata": {},
   "cell_type": "markdown",
   "source": [
    "---\n",
    "### Optimizer"
   ],
   "id": "6721d0bf2ab8b28c"
  },
  {
   "metadata": {
    "ExecuteTime": {
     "end_time": "2025-06-22T19:38:33.537945Z",
     "start_time": "2025-06-22T19:38:33.533088Z"
    }
   },
   "cell_type": "code",
   "source": [
    "model = define_model()\n",
    "model"
   ],
   "id": "5c0eb3848ff7d200",
   "outputs": [
    {
     "data": {
      "text/plain": [
       "Sequential(\n",
       "  (0): Linear(in_features=20, out_features=64, bias=True)\n",
       "  (1): ReLU()\n",
       "  (2): Linear(in_features=64, out_features=32, bias=True)\n",
       "  (3): ReLU()\n",
       "  (4): Linear(in_features=32, out_features=4, bias=True)\n",
       ")"
      ]
     },
     "execution_count": 22,
     "metadata": {},
     "output_type": "execute_result"
    }
   ],
   "execution_count": 22
  },
  {
   "metadata": {
    "ExecuteTime": {
     "end_time": "2025-06-22T19:38:33.625579Z",
     "start_time": "2025-06-22T19:38:33.622577Z"
    }
   },
   "cell_type": "code",
   "source": "optim_names = ['sgd', 'rms', 'adam']",
   "id": "399f468683abe257",
   "outputs": [],
   "execution_count": 23
  },
  {
   "metadata": {
    "ExecuteTime": {
     "end_time": "2025-06-22T19:38:33.656141Z",
     "start_time": "2025-06-22T19:38:33.653142Z"
    }
   },
   "cell_type": "code",
   "source": [
    "# optim_name = optim_names[0]\n",
    "# optimizer = torch.optim.SGD(model.parameters(),\n",
    "#                             lr=0.3,\n",
    "#                             # momentum=0.1,\n",
    "#                             # nesterov=True,\n",
    "#                             weight_decay=0.)\n",
    "\n",
    "# optim_name = optim_names[1]\n",
    "# optimizer = torch.optim.RMSprop(model.parameters(),\n",
    "#                                 weight_decay=0,\n",
    "#                                 lr=0.01,\n",
    "#                                 alpha=0.99)\n",
    "\n",
    "optim_name = optim_names[2]\n",
    "optimizer = torch.optim.Adam(model.parameters(),\n",
    "                             weight_decay=1e-6,\n",
    "                             lr=0.03,\n",
    "                             betas=(0.9, 0.999))"
   ],
   "id": "d002f2e617501eea",
   "outputs": [],
   "execution_count": 24
  },
  {
   "metadata": {},
   "cell_type": "markdown",
   "source": [
    "---\n",
    "### Train"
   ],
   "id": "af6fc478b3840a8e"
  },
  {
   "cell_type": "code",
   "id": "bd499c1b375d67b1",
   "metadata": {
    "ExecuteTime": {
     "end_time": "2025-06-22T19:38:33.675036Z",
     "start_time": "2025-06-22T19:38:33.672096Z"
    }
   },
   "source": [
    "epochs = 300"
   ],
   "outputs": [],
   "execution_count": 25
  },
  {
   "cell_type": "code",
   "id": "818ed5d694247f71",
   "metadata": {
    "ExecuteTime": {
     "end_time": "2025-06-22T19:38:33.697267Z",
     "start_time": "2025-06-22T19:38:33.695153Z"
    }
   },
   "source": [
    "hist_loss_train = []\n",
    "hist_loss_valid = []\n",
    "\n",
    "hist_acc_train = []\n",
    "hist_acc_valid = []\n",
    "\n",
    "hist_f1_train = []\n",
    "hist_f1_valid = []"
   ],
   "outputs": [],
   "execution_count": 26
  },
  {
   "cell_type": "code",
   "id": "73fa2768a145599b",
   "metadata": {
    "ExecuteTime": {
     "end_time": "2025-06-22T19:38:44.832568Z",
     "start_time": "2025-06-22T19:38:33.718086Z"
    }
   },
   "source": [
    "for epoch in range(epochs):\n",
    "    model, loss_train, acc_train, f1_train = train_one_epoch(model=model,\n",
    "                                                             train_loader=train_loader,\n",
    "                                                             loss_fn=loss_fn,\n",
    "                                                             optimizer=optimizer,\n",
    "                                                             epoch=epoch,\n",
    "                                                             disable_log=True)\n",
    "\n",
    "    loss_valid, acc_valid, f1_valid = valid_one_epoch(model=model, valid_loader=valid_loader, loss_fn=loss_fn)\n",
    "\n",
    "    hist_loss_train.append(loss_train)\n",
    "    hist_loss_valid.append(loss_valid)\n",
    "\n",
    "    hist_acc_train.append(acc_train.cpu())\n",
    "    hist_acc_valid.append(acc_valid.cpu())\n",
    "\n",
    "    hist_f1_train.append(f1_train.cpu())\n",
    "    hist_f1_valid.append(f1_valid.cpu())\n",
    "\n",
    "    print(f\"Loss_valid: {loss_valid:.4}, Accuracy_valid: {(acc_valid * 100):.4}%, F1_valid: {(f1_valid * 100):.4}%\")"
   ],
   "outputs": [
    {
     "name": "stdout",
     "output_type": "stream",
     "text": [
      "Loss_valid: 1.023, Accuracy_valid: 62.33%, F1_valid: 62.33%\n",
      "Loss_valid: 0.6041, Accuracy_valid: 74.33%, F1_valid: 74.33%\n",
      "Loss_valid: 0.3659, Accuracy_valid: 82.33%, F1_valid: 82.33%\n",
      "Loss_valid: 0.2621, Accuracy_valid: 87.0%, F1_valid: 87.0%\n",
      "Loss_valid: 0.2916, Accuracy_valid: 86.5%, F1_valid: 86.5%\n",
      "Loss_valid: 0.2871, Accuracy_valid: 89.0%, F1_valid: 89.0%\n",
      "Loss_valid: 0.2956, Accuracy_valid: 88.33%, F1_valid: 88.33%\n",
      "Loss_valid: 0.2636, Accuracy_valid: 89.83%, F1_valid: 89.83%\n",
      "Loss_valid: 0.4078, Accuracy_valid: 87.83%, F1_valid: 87.83%\n",
      "Loss_valid: 0.4026, Accuracy_valid: 89.0%, F1_valid: 89.0%\n",
      "Loss_valid: 0.3232, Accuracy_valid: 89.33%, F1_valid: 89.33%\n",
      "Loss_valid: 0.3663, Accuracy_valid: 90.33%, F1_valid: 90.33%\n",
      "Loss_valid: 0.383, Accuracy_valid: 87.83%, F1_valid: 87.83%\n",
      "Loss_valid: 0.3562, Accuracy_valid: 89.67%, F1_valid: 89.67%\n",
      "Loss_valid: 0.3752, Accuracy_valid: 90.0%, F1_valid: 90.0%\n",
      "Loss_valid: 0.4345, Accuracy_valid: 88.0%, F1_valid: 88.0%\n",
      "Loss_valid: 0.3638, Accuracy_valid: 90.5%, F1_valid: 90.5%\n",
      "Loss_valid: 0.3833, Accuracy_valid: 89.67%, F1_valid: 89.67%\n",
      "Loss_valid: 0.3527, Accuracy_valid: 90.33%, F1_valid: 90.33%\n",
      "Loss_valid: 0.3731, Accuracy_valid: 90.33%, F1_valid: 90.33%\n",
      "Loss_valid: 0.3924, Accuracy_valid: 90.17%, F1_valid: 90.17%\n",
      "Loss_valid: 0.4213, Accuracy_valid: 90.5%, F1_valid: 90.5%\n",
      "Loss_valid: 0.4117, Accuracy_valid: 90.0%, F1_valid: 90.0%\n",
      "Loss_valid: 0.3947, Accuracy_valid: 91.17%, F1_valid: 91.17%\n",
      "Loss_valid: 0.3921, Accuracy_valid: 90.83%, F1_valid: 90.83%\n",
      "Loss_valid: 0.3871, Accuracy_valid: 90.33%, F1_valid: 90.33%\n",
      "Loss_valid: 0.3874, Accuracy_valid: 90.5%, F1_valid: 90.5%\n",
      "Loss_valid: 0.3982, Accuracy_valid: 90.5%, F1_valid: 90.5%\n",
      "Loss_valid: 0.4109, Accuracy_valid: 90.67%, F1_valid: 90.67%\n",
      "Loss_valid: 0.4151, Accuracy_valid: 91.17%, F1_valid: 91.17%\n",
      "Loss_valid: 0.4138, Accuracy_valid: 91.0%, F1_valid: 91.0%\n",
      "Loss_valid: 0.4139, Accuracy_valid: 90.5%, F1_valid: 90.5%\n",
      "Loss_valid: 0.4147, Accuracy_valid: 90.33%, F1_valid: 90.33%\n",
      "Loss_valid: 0.4155, Accuracy_valid: 90.67%, F1_valid: 90.67%\n",
      "Loss_valid: 0.4166, Accuracy_valid: 90.83%, F1_valid: 90.83%\n",
      "Loss_valid: 0.4162, Accuracy_valid: 90.83%, F1_valid: 90.83%\n",
      "Loss_valid: 0.4159, Accuracy_valid: 90.33%, F1_valid: 90.33%\n",
      "Loss_valid: 0.4164, Accuracy_valid: 90.33%, F1_valid: 90.33%\n",
      "Loss_valid: 0.4173, Accuracy_valid: 90.83%, F1_valid: 90.83%\n",
      "Loss_valid: 0.4181, Accuracy_valid: 90.83%, F1_valid: 90.83%\n",
      "Loss_valid: 0.4186, Accuracy_valid: 91.0%, F1_valid: 91.0%\n",
      "Loss_valid: 0.4197, Accuracy_valid: 91.0%, F1_valid: 91.0%\n",
      "Loss_valid: 0.4209, Accuracy_valid: 91.0%, F1_valid: 91.0%\n",
      "Loss_valid: 0.422, Accuracy_valid: 91.0%, F1_valid: 91.0%\n",
      "Loss_valid: 0.423, Accuracy_valid: 90.83%, F1_valid: 90.83%\n",
      "Loss_valid: 0.424, Accuracy_valid: 91.0%, F1_valid: 91.0%\n",
      "Loss_valid: 0.4251, Accuracy_valid: 91.0%, F1_valid: 91.0%\n",
      "Loss_valid: 0.4266, Accuracy_valid: 91.0%, F1_valid: 91.0%\n",
      "Loss_valid: 0.4279, Accuracy_valid: 91.0%, F1_valid: 91.0%\n",
      "Loss_valid: 0.4287, Accuracy_valid: 91.0%, F1_valid: 91.0%\n",
      "Loss_valid: 0.4291, Accuracy_valid: 91.0%, F1_valid: 91.0%\n",
      "Loss_valid: 0.4298, Accuracy_valid: 91.0%, F1_valid: 91.0%\n",
      "Loss_valid: 0.4301, Accuracy_valid: 91.17%, F1_valid: 91.17%\n",
      "Loss_valid: 0.4308, Accuracy_valid: 91.0%, F1_valid: 91.0%\n",
      "Loss_valid: 0.4313, Accuracy_valid: 91.0%, F1_valid: 91.0%\n",
      "Loss_valid: 0.4318, Accuracy_valid: 91.0%, F1_valid: 91.0%\n",
      "Loss_valid: 0.4326, Accuracy_valid: 91.0%, F1_valid: 91.0%\n",
      "Loss_valid: 0.4335, Accuracy_valid: 91.0%, F1_valid: 91.0%\n",
      "Loss_valid: 0.4341, Accuracy_valid: 91.0%, F1_valid: 91.0%\n",
      "Loss_valid: 0.4347, Accuracy_valid: 91.0%, F1_valid: 91.0%\n",
      "Loss_valid: 0.4352, Accuracy_valid: 91.0%, F1_valid: 91.0%\n",
      "Loss_valid: 0.4357, Accuracy_valid: 91.0%, F1_valid: 91.0%\n",
      "Loss_valid: 0.436, Accuracy_valid: 90.83%, F1_valid: 90.83%\n",
      "Loss_valid: 0.4363, Accuracy_valid: 91.0%, F1_valid: 91.0%\n",
      "Loss_valid: 0.4369, Accuracy_valid: 91.0%, F1_valid: 91.0%\n",
      "Loss_valid: 0.4378, Accuracy_valid: 91.0%, F1_valid: 91.0%\n",
      "Loss_valid: 0.4386, Accuracy_valid: 91.0%, F1_valid: 91.0%\n",
      "Loss_valid: 0.4393, Accuracy_valid: 91.0%, F1_valid: 91.0%\n",
      "Loss_valid: 0.4401, Accuracy_valid: 91.0%, F1_valid: 91.0%\n",
      "Loss_valid: 0.4407, Accuracy_valid: 91.0%, F1_valid: 91.0%\n",
      "Loss_valid: 0.4413, Accuracy_valid: 91.0%, F1_valid: 91.0%\n",
      "Loss_valid: 0.442, Accuracy_valid: 91.0%, F1_valid: 91.0%\n",
      "Loss_valid: 0.4428, Accuracy_valid: 91.17%, F1_valid: 91.17%\n",
      "Loss_valid: 0.4436, Accuracy_valid: 91.17%, F1_valid: 91.17%\n",
      "Loss_valid: 0.4443, Accuracy_valid: 91.17%, F1_valid: 91.17%\n",
      "Loss_valid: 0.4453, Accuracy_valid: 91.17%, F1_valid: 91.17%\n",
      "Loss_valid: 0.4462, Accuracy_valid: 91.17%, F1_valid: 91.17%\n",
      "Loss_valid: 0.4469, Accuracy_valid: 91.17%, F1_valid: 91.17%\n",
      "Loss_valid: 0.4473, Accuracy_valid: 91.17%, F1_valid: 91.17%\n",
      "Loss_valid: 0.4477, Accuracy_valid: 91.17%, F1_valid: 91.17%\n",
      "Loss_valid: 0.4482, Accuracy_valid: 91.17%, F1_valid: 91.17%\n",
      "Loss_valid: 0.4486, Accuracy_valid: 91.17%, F1_valid: 91.17%\n",
      "Loss_valid: 0.4491, Accuracy_valid: 91.17%, F1_valid: 91.17%\n",
      "Loss_valid: 0.4496, Accuracy_valid: 91.0%, F1_valid: 91.0%\n",
      "Loss_valid: 0.4501, Accuracy_valid: 91.0%, F1_valid: 91.0%\n",
      "Loss_valid: 0.4505, Accuracy_valid: 91.0%, F1_valid: 91.0%\n",
      "Loss_valid: 0.451, Accuracy_valid: 91.0%, F1_valid: 91.0%\n",
      "Loss_valid: 0.4516, Accuracy_valid: 91.0%, F1_valid: 91.0%\n",
      "Loss_valid: 0.4523, Accuracy_valid: 90.83%, F1_valid: 90.83%\n",
      "Loss_valid: 0.453, Accuracy_valid: 90.83%, F1_valid: 90.83%\n",
      "Loss_valid: 0.4538, Accuracy_valid: 90.83%, F1_valid: 90.83%\n",
      "Loss_valid: 0.4545, Accuracy_valid: 91.0%, F1_valid: 91.0%\n",
      "Loss_valid: 0.455, Accuracy_valid: 91.0%, F1_valid: 91.0%\n",
      "Loss_valid: 0.4555, Accuracy_valid: 91.0%, F1_valid: 91.0%\n",
      "Loss_valid: 0.4562, Accuracy_valid: 91.0%, F1_valid: 91.0%\n",
      "Loss_valid: 0.4569, Accuracy_valid: 91.0%, F1_valid: 91.0%\n",
      "Loss_valid: 0.4578, Accuracy_valid: 90.83%, F1_valid: 90.83%\n",
      "Loss_valid: 0.4586, Accuracy_valid: 91.0%, F1_valid: 91.0%\n",
      "Loss_valid: 0.4593, Accuracy_valid: 91.0%, F1_valid: 91.0%\n",
      "Loss_valid: 0.46, Accuracy_valid: 91.0%, F1_valid: 91.0%\n",
      "Loss_valid: 0.4607, Accuracy_valid: 90.83%, F1_valid: 90.83%\n",
      "Loss_valid: 0.4612, Accuracy_valid: 90.83%, F1_valid: 90.83%\n",
      "Loss_valid: 0.4616, Accuracy_valid: 90.83%, F1_valid: 90.83%\n",
      "Loss_valid: 0.4617, Accuracy_valid: 90.83%, F1_valid: 90.83%\n",
      "Loss_valid: 0.462, Accuracy_valid: 91.0%, F1_valid: 91.0%\n",
      "Loss_valid: 0.4625, Accuracy_valid: 91.0%, F1_valid: 91.0%\n",
      "Loss_valid: 0.4633, Accuracy_valid: 91.0%, F1_valid: 91.0%\n",
      "Loss_valid: 0.4642, Accuracy_valid: 90.83%, F1_valid: 90.83%\n",
      "Loss_valid: 0.4649, Accuracy_valid: 90.83%, F1_valid: 90.83%\n",
      "Loss_valid: 0.4654, Accuracy_valid: 90.67%, F1_valid: 90.67%\n",
      "Loss_valid: 0.4658, Accuracy_valid: 90.67%, F1_valid: 90.67%\n",
      "Loss_valid: 0.4661, Accuracy_valid: 90.67%, F1_valid: 90.67%\n",
      "Loss_valid: 0.4667, Accuracy_valid: 90.67%, F1_valid: 90.67%\n",
      "Loss_valid: 0.4673, Accuracy_valid: 90.67%, F1_valid: 90.67%\n",
      "Loss_valid: 0.4678, Accuracy_valid: 90.83%, F1_valid: 90.83%\n",
      "Loss_valid: 0.4684, Accuracy_valid: 90.67%, F1_valid: 90.67%\n",
      "Loss_valid: 0.4691, Accuracy_valid: 90.83%, F1_valid: 90.83%\n",
      "Loss_valid: 0.4699, Accuracy_valid: 90.83%, F1_valid: 90.83%\n",
      "Loss_valid: 0.4703, Accuracy_valid: 90.83%, F1_valid: 90.83%\n",
      "Loss_valid: 0.4707, Accuracy_valid: 90.83%, F1_valid: 90.83%\n",
      "Loss_valid: 0.4711, Accuracy_valid: 90.83%, F1_valid: 90.83%\n",
      "Loss_valid: 0.4715, Accuracy_valid: 90.83%, F1_valid: 90.83%\n",
      "Loss_valid: 0.472, Accuracy_valid: 90.67%, F1_valid: 90.67%\n",
      "Loss_valid: 0.4725, Accuracy_valid: 90.67%, F1_valid: 90.67%\n",
      "Loss_valid: 0.4732, Accuracy_valid: 90.67%, F1_valid: 90.67%\n",
      "Loss_valid: 0.4739, Accuracy_valid: 90.67%, F1_valid: 90.67%\n",
      "Loss_valid: 0.4745, Accuracy_valid: 90.5%, F1_valid: 90.5%\n",
      "Loss_valid: 0.475, Accuracy_valid: 90.5%, F1_valid: 90.5%\n",
      "Loss_valid: 0.4754, Accuracy_valid: 90.67%, F1_valid: 90.67%\n",
      "Loss_valid: 0.4756, Accuracy_valid: 90.83%, F1_valid: 90.83%\n",
      "Loss_valid: 0.476, Accuracy_valid: 90.83%, F1_valid: 90.83%\n",
      "Loss_valid: 0.4764, Accuracy_valid: 90.83%, F1_valid: 90.83%\n",
      "Loss_valid: 0.4767, Accuracy_valid: 90.83%, F1_valid: 90.83%\n",
      "Loss_valid: 0.4771, Accuracy_valid: 90.83%, F1_valid: 90.83%\n",
      "Loss_valid: 0.4779, Accuracy_valid: 90.83%, F1_valid: 90.83%\n",
      "Loss_valid: 0.4785, Accuracy_valid: 90.83%, F1_valid: 90.83%\n",
      "Loss_valid: 0.4789, Accuracy_valid: 90.83%, F1_valid: 90.83%\n",
      "Loss_valid: 0.4796, Accuracy_valid: 90.67%, F1_valid: 90.67%\n",
      "Loss_valid: 0.4802, Accuracy_valid: 90.67%, F1_valid: 90.67%\n",
      "Loss_valid: 0.4808, Accuracy_valid: 90.67%, F1_valid: 90.67%\n",
      "Loss_valid: 0.4815, Accuracy_valid: 90.5%, F1_valid: 90.5%\n",
      "Loss_valid: 0.482, Accuracy_valid: 90.5%, F1_valid: 90.5%\n",
      "Loss_valid: 0.4826, Accuracy_valid: 90.5%, F1_valid: 90.5%\n",
      "Loss_valid: 0.483, Accuracy_valid: 90.5%, F1_valid: 90.5%\n",
      "Loss_valid: 0.4833, Accuracy_valid: 90.5%, F1_valid: 90.5%\n",
      "Loss_valid: 0.4836, Accuracy_valid: 90.5%, F1_valid: 90.5%\n",
      "Loss_valid: 0.4839, Accuracy_valid: 90.5%, F1_valid: 90.5%\n",
      "Loss_valid: 0.4839, Accuracy_valid: 90.5%, F1_valid: 90.5%\n",
      "Loss_valid: 0.4841, Accuracy_valid: 90.5%, F1_valid: 90.5%\n",
      "Loss_valid: 0.4842, Accuracy_valid: 90.5%, F1_valid: 90.5%\n",
      "Loss_valid: 0.4846, Accuracy_valid: 90.5%, F1_valid: 90.5%\n",
      "Loss_valid: 0.485, Accuracy_valid: 90.5%, F1_valid: 90.5%\n",
      "Loss_valid: 0.4855, Accuracy_valid: 90.5%, F1_valid: 90.5%\n",
      "Loss_valid: 0.4862, Accuracy_valid: 90.5%, F1_valid: 90.5%\n",
      "Loss_valid: 0.4868, Accuracy_valid: 90.5%, F1_valid: 90.5%\n",
      "Loss_valid: 0.4874, Accuracy_valid: 90.33%, F1_valid: 90.33%\n",
      "Loss_valid: 0.4878, Accuracy_valid: 90.33%, F1_valid: 90.33%\n",
      "Loss_valid: 0.4884, Accuracy_valid: 90.33%, F1_valid: 90.33%\n",
      "Loss_valid: 0.489, Accuracy_valid: 90.33%, F1_valid: 90.33%\n",
      "Loss_valid: 0.4895, Accuracy_valid: 90.33%, F1_valid: 90.33%\n",
      "Loss_valid: 0.4897, Accuracy_valid: 90.33%, F1_valid: 90.33%\n",
      "Loss_valid: 0.4899, Accuracy_valid: 90.5%, F1_valid: 90.5%\n",
      "Loss_valid: 0.4898, Accuracy_valid: 90.5%, F1_valid: 90.5%\n",
      "Loss_valid: 0.4898, Accuracy_valid: 90.5%, F1_valid: 90.5%\n",
      "Loss_valid: 0.4898, Accuracy_valid: 90.5%, F1_valid: 90.5%\n",
      "Loss_valid: 0.4902, Accuracy_valid: 90.5%, F1_valid: 90.5%\n",
      "Loss_valid: 0.4907, Accuracy_valid: 90.5%, F1_valid: 90.5%\n",
      "Loss_valid: 0.4913, Accuracy_valid: 90.5%, F1_valid: 90.5%\n",
      "Loss_valid: 0.4918, Accuracy_valid: 90.5%, F1_valid: 90.5%\n",
      "Loss_valid: 0.4923, Accuracy_valid: 90.5%, F1_valid: 90.5%\n",
      "Loss_valid: 0.493, Accuracy_valid: 90.5%, F1_valid: 90.5%\n",
      "Loss_valid: 0.4933, Accuracy_valid: 90.5%, F1_valid: 90.5%\n",
      "Loss_valid: 0.4936, Accuracy_valid: 90.5%, F1_valid: 90.5%\n",
      "Loss_valid: 0.4939, Accuracy_valid: 90.33%, F1_valid: 90.33%\n",
      "Loss_valid: 0.4942, Accuracy_valid: 90.33%, F1_valid: 90.33%\n",
      "Loss_valid: 0.4948, Accuracy_valid: 90.33%, F1_valid: 90.33%\n",
      "Loss_valid: 0.4953, Accuracy_valid: 90.33%, F1_valid: 90.33%\n",
      "Loss_valid: 0.4958, Accuracy_valid: 90.33%, F1_valid: 90.33%\n",
      "Loss_valid: 0.4963, Accuracy_valid: 90.5%, F1_valid: 90.5%\n",
      "Loss_valid: 0.4969, Accuracy_valid: 90.5%, F1_valid: 90.5%\n",
      "Loss_valid: 0.4975, Accuracy_valid: 90.5%, F1_valid: 90.5%\n",
      "Loss_valid: 0.4982, Accuracy_valid: 90.5%, F1_valid: 90.5%\n",
      "Loss_valid: 0.499, Accuracy_valid: 90.5%, F1_valid: 90.5%\n",
      "Loss_valid: 0.4995, Accuracy_valid: 90.5%, F1_valid: 90.5%\n",
      "Loss_valid: 0.5002, Accuracy_valid: 90.33%, F1_valid: 90.33%\n",
      "Loss_valid: 0.5007, Accuracy_valid: 90.33%, F1_valid: 90.33%\n",
      "Loss_valid: 0.5009, Accuracy_valid: 90.5%, F1_valid: 90.5%\n",
      "Loss_valid: 0.5011, Accuracy_valid: 90.5%, F1_valid: 90.5%\n",
      "Loss_valid: 0.5013, Accuracy_valid: 90.5%, F1_valid: 90.5%\n",
      "Loss_valid: 0.5016, Accuracy_valid: 90.5%, F1_valid: 90.5%\n",
      "Loss_valid: 0.502, Accuracy_valid: 90.33%, F1_valid: 90.33%\n",
      "Loss_valid: 0.5023, Accuracy_valid: 90.33%, F1_valid: 90.33%\n",
      "Loss_valid: 0.5027, Accuracy_valid: 90.33%, F1_valid: 90.33%\n",
      "Loss_valid: 0.5029, Accuracy_valid: 90.5%, F1_valid: 90.5%\n",
      "Loss_valid: 0.503, Accuracy_valid: 90.5%, F1_valid: 90.5%\n",
      "Loss_valid: 0.5031, Accuracy_valid: 90.5%, F1_valid: 90.5%\n",
      "Loss_valid: 0.5034, Accuracy_valid: 90.5%, F1_valid: 90.5%\n",
      "Loss_valid: 0.5036, Accuracy_valid: 90.5%, F1_valid: 90.5%\n",
      "Loss_valid: 0.504, Accuracy_valid: 90.5%, F1_valid: 90.5%\n",
      "Loss_valid: 0.5044, Accuracy_valid: 90.33%, F1_valid: 90.33%\n",
      "Loss_valid: 0.5047, Accuracy_valid: 90.5%, F1_valid: 90.5%\n",
      "Loss_valid: 0.5049, Accuracy_valid: 90.5%, F1_valid: 90.5%\n",
      "Loss_valid: 0.5051, Accuracy_valid: 90.5%, F1_valid: 90.5%\n",
      "Loss_valid: 0.5054, Accuracy_valid: 90.5%, F1_valid: 90.5%\n",
      "Loss_valid: 0.5055, Accuracy_valid: 90.5%, F1_valid: 90.5%\n",
      "Loss_valid: 0.5058, Accuracy_valid: 90.5%, F1_valid: 90.5%\n",
      "Loss_valid: 0.5063, Accuracy_valid: 90.5%, F1_valid: 90.5%\n",
      "Loss_valid: 0.5066, Accuracy_valid: 90.5%, F1_valid: 90.5%\n",
      "Loss_valid: 0.5069, Accuracy_valid: 90.5%, F1_valid: 90.5%\n",
      "Loss_valid: 0.5073, Accuracy_valid: 90.5%, F1_valid: 90.5%\n",
      "Loss_valid: 0.5078, Accuracy_valid: 90.5%, F1_valid: 90.5%\n",
      "Loss_valid: 0.5082, Accuracy_valid: 90.5%, F1_valid: 90.5%\n",
      "Loss_valid: 0.5086, Accuracy_valid: 90.33%, F1_valid: 90.33%\n",
      "Loss_valid: 0.5087, Accuracy_valid: 90.33%, F1_valid: 90.33%\n",
      "Loss_valid: 0.5088, Accuracy_valid: 90.33%, F1_valid: 90.33%\n",
      "Loss_valid: 0.5089, Accuracy_valid: 90.33%, F1_valid: 90.33%\n",
      "Loss_valid: 0.5091, Accuracy_valid: 90.33%, F1_valid: 90.33%\n",
      "Loss_valid: 0.5094, Accuracy_valid: 90.33%, F1_valid: 90.33%\n",
      "Loss_valid: 0.5098, Accuracy_valid: 90.33%, F1_valid: 90.33%\n",
      "Loss_valid: 0.5101, Accuracy_valid: 90.33%, F1_valid: 90.33%\n",
      "Loss_valid: 0.5103, Accuracy_valid: 90.33%, F1_valid: 90.33%\n",
      "Loss_valid: 0.5105, Accuracy_valid: 90.33%, F1_valid: 90.33%\n",
      "Loss_valid: 0.5109, Accuracy_valid: 90.33%, F1_valid: 90.33%\n",
      "Loss_valid: 0.5113, Accuracy_valid: 90.33%, F1_valid: 90.33%\n",
      "Loss_valid: 0.5117, Accuracy_valid: 90.33%, F1_valid: 90.33%\n",
      "Loss_valid: 0.5122, Accuracy_valid: 90.33%, F1_valid: 90.33%\n",
      "Loss_valid: 0.5127, Accuracy_valid: 90.33%, F1_valid: 90.33%\n",
      "Loss_valid: 0.5132, Accuracy_valid: 90.5%, F1_valid: 90.5%\n",
      "Loss_valid: 0.5138, Accuracy_valid: 90.5%, F1_valid: 90.5%\n",
      "Loss_valid: 0.5141, Accuracy_valid: 90.5%, F1_valid: 90.5%\n",
      "Loss_valid: 0.5145, Accuracy_valid: 90.5%, F1_valid: 90.5%\n",
      "Loss_valid: 0.515, Accuracy_valid: 90.5%, F1_valid: 90.5%\n",
      "Loss_valid: 0.5153, Accuracy_valid: 90.33%, F1_valid: 90.33%\n",
      "Loss_valid: 0.5157, Accuracy_valid: 90.5%, F1_valid: 90.5%\n",
      "Loss_valid: 0.5159, Accuracy_valid: 90.5%, F1_valid: 90.5%\n",
      "Loss_valid: 0.516, Accuracy_valid: 90.5%, F1_valid: 90.5%\n",
      "Loss_valid: 0.5159, Accuracy_valid: 90.5%, F1_valid: 90.5%\n",
      "Loss_valid: 0.5158, Accuracy_valid: 90.67%, F1_valid: 90.67%\n",
      "Loss_valid: 0.516, Accuracy_valid: 90.67%, F1_valid: 90.67%\n",
      "Loss_valid: 0.5162, Accuracy_valid: 90.5%, F1_valid: 90.5%\n",
      "Loss_valid: 0.5164, Accuracy_valid: 90.5%, F1_valid: 90.5%\n",
      "Loss_valid: 0.5166, Accuracy_valid: 90.5%, F1_valid: 90.5%\n",
      "Loss_valid: 0.5168, Accuracy_valid: 90.5%, F1_valid: 90.5%\n",
      "Loss_valid: 0.5174, Accuracy_valid: 90.5%, F1_valid: 90.5%\n",
      "Loss_valid: 0.518, Accuracy_valid: 90.33%, F1_valid: 90.33%\n",
      "Loss_valid: 0.5186, Accuracy_valid: 90.33%, F1_valid: 90.33%\n",
      "Loss_valid: 0.5192, Accuracy_valid: 90.33%, F1_valid: 90.33%\n",
      "Loss_valid: 0.5196, Accuracy_valid: 90.33%, F1_valid: 90.33%\n",
      "Loss_valid: 0.5197, Accuracy_valid: 90.33%, F1_valid: 90.33%\n",
      "Loss_valid: 0.5197, Accuracy_valid: 90.5%, F1_valid: 90.5%\n",
      "Loss_valid: 0.5196, Accuracy_valid: 90.5%, F1_valid: 90.5%\n",
      "Loss_valid: 0.5197, Accuracy_valid: 90.5%, F1_valid: 90.5%\n",
      "Loss_valid: 0.5198, Accuracy_valid: 90.5%, F1_valid: 90.5%\n",
      "Loss_valid: 0.5201, Accuracy_valid: 90.5%, F1_valid: 90.5%\n",
      "Loss_valid: 0.5205, Accuracy_valid: 90.5%, F1_valid: 90.5%\n",
      "Loss_valid: 0.5206, Accuracy_valid: 90.5%, F1_valid: 90.5%\n",
      "Loss_valid: 0.5209, Accuracy_valid: 90.5%, F1_valid: 90.5%\n",
      "Loss_valid: 0.5211, Accuracy_valid: 90.33%, F1_valid: 90.33%\n",
      "Loss_valid: 0.5215, Accuracy_valid: 90.33%, F1_valid: 90.33%\n",
      "Loss_valid: 0.5219, Accuracy_valid: 90.33%, F1_valid: 90.33%\n",
      "Loss_valid: 0.5222, Accuracy_valid: 90.33%, F1_valid: 90.33%\n",
      "Loss_valid: 0.5225, Accuracy_valid: 90.33%, F1_valid: 90.33%\n",
      "Loss_valid: 0.5226, Accuracy_valid: 90.33%, F1_valid: 90.33%\n",
      "Loss_valid: 0.5229, Accuracy_valid: 90.33%, F1_valid: 90.33%\n",
      "Loss_valid: 0.5232, Accuracy_valid: 90.33%, F1_valid: 90.33%\n",
      "Loss_valid: 0.5236, Accuracy_valid: 90.5%, F1_valid: 90.5%\n",
      "Loss_valid: 0.5239, Accuracy_valid: 90.5%, F1_valid: 90.5%\n",
      "Loss_valid: 0.5244, Accuracy_valid: 90.5%, F1_valid: 90.5%\n",
      "Loss_valid: 0.5247, Accuracy_valid: 90.5%, F1_valid: 90.5%\n",
      "Loss_valid: 0.525, Accuracy_valid: 90.5%, F1_valid: 90.5%\n",
      "Loss_valid: 0.5252, Accuracy_valid: 90.5%, F1_valid: 90.5%\n",
      "Loss_valid: 0.5256, Accuracy_valid: 90.5%, F1_valid: 90.5%\n",
      "Loss_valid: 0.5259, Accuracy_valid: 90.5%, F1_valid: 90.5%\n",
      "Loss_valid: 0.526, Accuracy_valid: 90.5%, F1_valid: 90.5%\n",
      "Loss_valid: 0.5261, Accuracy_valid: 90.5%, F1_valid: 90.5%\n",
      "Loss_valid: 0.5262, Accuracy_valid: 90.5%, F1_valid: 90.5%\n",
      "Loss_valid: 0.5263, Accuracy_valid: 90.5%, F1_valid: 90.5%\n",
      "Loss_valid: 0.5265, Accuracy_valid: 90.5%, F1_valid: 90.5%\n",
      "Loss_valid: 0.5267, Accuracy_valid: 90.5%, F1_valid: 90.5%\n",
      "Loss_valid: 0.527, Accuracy_valid: 90.5%, F1_valid: 90.5%\n",
      "Loss_valid: 0.5273, Accuracy_valid: 90.5%, F1_valid: 90.5%\n",
      "Loss_valid: 0.5277, Accuracy_valid: 90.5%, F1_valid: 90.5%\n",
      "Loss_valid: 0.5281, Accuracy_valid: 90.5%, F1_valid: 90.5%\n",
      "Loss_valid: 0.5286, Accuracy_valid: 90.5%, F1_valid: 90.5%\n",
      "Loss_valid: 0.5289, Accuracy_valid: 90.5%, F1_valid: 90.5%\n",
      "Loss_valid: 0.5292, Accuracy_valid: 90.5%, F1_valid: 90.5%\n",
      "Loss_valid: 0.5293, Accuracy_valid: 90.5%, F1_valid: 90.5%\n",
      "Loss_valid: 0.5293, Accuracy_valid: 90.67%, F1_valid: 90.67%\n",
      "Loss_valid: 0.5294, Accuracy_valid: 90.67%, F1_valid: 90.67%\n",
      "Loss_valid: 0.5296, Accuracy_valid: 90.67%, F1_valid: 90.67%\n",
      "Loss_valid: 0.5296, Accuracy_valid: 90.67%, F1_valid: 90.67%\n",
      "Loss_valid: 0.5297, Accuracy_valid: 90.5%, F1_valid: 90.5%\n",
      "Loss_valid: 0.53, Accuracy_valid: 90.5%, F1_valid: 90.5%\n",
      "Loss_valid: 0.5303, Accuracy_valid: 90.5%, F1_valid: 90.5%\n",
      "Loss_valid: 0.5305, Accuracy_valid: 90.5%, F1_valid: 90.5%\n",
      "Loss_valid: 0.5308, Accuracy_valid: 90.5%, F1_valid: 90.5%\n",
      "Loss_valid: 0.5311, Accuracy_valid: 90.5%, F1_valid: 90.5%\n",
      "Loss_valid: 0.5314, Accuracy_valid: 90.5%, F1_valid: 90.5%\n",
      "Loss_valid: 0.5319, Accuracy_valid: 90.5%, F1_valid: 90.5%\n",
      "Loss_valid: 0.5324, Accuracy_valid: 90.33%, F1_valid: 90.33%\n"
     ]
    }
   ],
   "execution_count": 27
  },
  {
   "metadata": {},
   "cell_type": "markdown",
   "source": "#### Plot method",
   "id": "c8198852e67455b5"
  },
  {
   "metadata": {},
   "cell_type": "code",
   "outputs": [],
   "execution_count": null,
   "source": [
    "def plot_compares(epochs, values1, label1, values2, label2, x_label, y_label, figsize=(10, 10)):\n",
    "    \"\"\"\n",
    "    Plot comparison curve.\n",
    "    :param epochs: The number of epochs.\n",
    "    :param values1: Values of first plot\n",
    "    :param label1: Label of first plot\n",
    "    :param values2: Values of second plot\n",
    "    :param label2: Label of second plot\n",
    "    :param x_label: Label of x axis\n",
    "    :param y_label: Label of y axis\n",
    "    :param figsize: Figure size\n",
    "    :return: None (Show the plot)\n",
    "    \"\"\"\n",
    "\n",
    "    fig, ax = plt.subplots(figsize=figsize)\n",
    "\n",
    "    ax.plot(range(epochs), values1, 'r-', label=label1)\n",
    "    ax.plot(range(epochs), values2, 'b-', label=label2)\n",
    "\n",
    "    ax.set_xlabel(x_label)\n",
    "    ax.set_ylabel(y_label)\n",
    "    ax.grid(True)\n",
    "    ax.legend()"
   ],
   "id": "54df39ebf79e6f87"
  },
  {
   "cell_type": "markdown",
   "id": "77a01d6d9085e4a5",
   "metadata": {},
   "source": [
    "---\n",
    "### Plot (Loss)"
   ]
  },
  {
   "cell_type": "code",
   "id": "2043ba2890a478ed",
   "metadata": {
    "ExecuteTime": {
     "end_time": "2025-06-22T19:38:44.996795Z",
     "start_time": "2025-06-22T19:38:44.894893Z"
    }
   },
   "source": [
    "plot_compares(epochs=epochs,\n",
    "              values1=hist_loss_train,\n",
    "              label1='Train',\n",
    "              values2=hist_loss_valid,\n",
    "              label2='Valid',\n",
    "              x_label='Epoch',\n",
    "              y_label='Loss')"
   ],
   "outputs": [
    {
     "data": {
      "text/plain": [
       "<matplotlib.legend.Legend at 0x23854c71d90>"
      ]
     },
     "execution_count": 28,
     "metadata": {},
     "output_type": "execute_result"
    },
    {
     "data": {
      "text/plain": [
       "<Figure size 1000x1000 with 1 Axes>"
      ],
      "image/png": "[encoded data removed]"
     },
     "metadata": {},
     "output_type": "display_data"
    }
   ],
   "execution_count": 28
  },
  {
   "cell_type": "markdown",
   "id": "3cf5e06e75e3268f",
   "metadata": {},
   "source": [
    "###  Plot (Accuracy)"
   ]
  },
  {
   "cell_type": "code",
   "id": "e492cf5854209b42",
   "metadata": {
    "ExecuteTime": {
     "end_time": "2025-06-22T19:38:45.144984Z",
     "start_time": "2025-06-22T19:38:45.059133Z"
    }
   },
   "source": [
    "plot_compares(epochs=epochs,\n",
    "              values1=hist_acc_train,\n",
    "              label1='Train',\n",
    "              values2=hist_acc_valid,\n",
    "              label2='Valid',\n",
    "              x_label='Epoch',\n",
    "              y_label='Accuracy')"
   ],
   "outputs": [
    {
     "data": {
      "text/plain": [
       "<matplotlib.legend.Legend at 0x23854bd8750>"
      ]
     },
     "execution_count": 29,
     "metadata": {},
     "output_type": "execute_result"
    },
    {
     "data": {
      "text/plain": [
       "<Figure size 1000x1000 with 1 Axes>"
      ],
      "image/png": "[encoded data removed]"
     },
     "metadata": {},
     "output_type": "display_data"
    }
   ],
   "execution_count": 29
  },
  {
   "cell_type": "markdown",
   "id": "fd21dfd8760ddb81",
   "metadata": {},
   "source": [
    "#### Plot (F1 Score)"
   ]
  },
  {
   "cell_type": "code",
   "id": "f35f0c2e5627354e",
   "metadata": {
    "ExecuteTime": {
     "end_time": "2025-06-22T19:38:45.294076Z",
     "start_time": "2025-06-22T19:38:45.213570Z"
    }
   },
   "source": [
    "plot_compares(epochs=epochs,\n",
    "              values1=hist_f1_train,\n",
    "              label1='Train',\n",
    "              values2=hist_f1_valid,\n",
    "              label2='Valid',\n",
    "              x_label='Epoch',\n",
    "              y_label='F1 Score')"
   ],
   "outputs": [
    {
     "data": {
      "text/plain": [
       "<matplotlib.legend.Legend at 0x2386790c650>"
      ]
     },
     "execution_count": 30,
     "metadata": {},
     "output_type": "execute_result"
    },
    {
     "data": {
      "text/plain": [
       "<Figure size 1000x1000 with 1 Axes>"
      ],
      "image/png": "[encoded data removed]"
     },
     "metadata": {},
     "output_type": "display_data"
    }
   ],
   "execution_count": 30
  },
  {
   "cell_type": "markdown",
   "id": "8cd74f4b8ca15d1",
   "metadata": {},
   "source": [
    "---\n",
    "### Save Model"
   ]
  },
  {
   "cell_type": "code",
   "id": "410251dddcea67e7",
   "metadata": {
    "ExecuteTime": {
     "end_time": "2025-06-22T19:38:45.392574Z",
     "start_time": "2025-06-22T19:38:45.360470Z"
    }
   },
   "source": [
    "!mkdir save"
   ],
   "outputs": [
    {
     "name": "stderr",
     "output_type": "stream",
     "text": [
      "A subdirectory or file save already exists.\n"
     ]
    }
   ],
   "execution_count": 31
  },
  {
   "cell_type": "code",
   "id": "35c2f716d17c374",
   "metadata": {
    "ExecuteTime": {
     "end_time": "2025-06-22T19:38:45.474668Z",
     "start_time": "2025-06-22T19:38:45.465737Z"
    }
   },
   "source": [
    "# torch.save(model, './save/model.pt')\n",
    "\n",
    "torch.save(torch.tensor(hist_acc_train), f'./save/{optim_name}_acc_train.pt')\n",
    "torch.save(torch.tensor(hist_acc_valid), f'./save/{optim_name}_acc_valid.pt')\n",
    "\n",
    "torch.save(torch.tensor(hist_loss_train), f'./save/{optim_name}_loss_train.pt')\n",
    "torch.save(torch.tensor(hist_loss_valid), f'./save/{optim_name}_loss_valid.pt')"
   ],
   "outputs": [],
   "execution_count": 32
  },
  {
   "cell_type": "code",
   "id": "7aec32c0602e512f",
   "metadata": {
    "ExecuteTime": {
     "end_time": "2025-06-22T19:38:45.542704Z",
     "start_time": "2025-06-22T19:38:45.539677Z"
    }
   },
   "source": [
    "# torch.load('./save/model.pt', weights_only=False)"
   ],
   "outputs": [],
   "execution_count": 33
  },
  {
   "cell_type": "markdown",
   "id": "1b749721",
   "metadata": {},
   "source": [
    "---\n",
    "#### Comparing"
   ]
  },
  {
   "cell_type": "code",
   "id": "189bea2f",
   "metadata": {
    "ExecuteTime": {
     "end_time": "2025-06-22T19:38:45.621109Z",
     "start_time": "2025-06-22T19:38:45.618163Z"
    }
   },
   "source": [
    "def plot_lcs(x: str = 'loss' or 'acc', y: str = 'train' or 'valid'):\n",
    "    \"\"\"\n",
    "    Plot the tables.\n",
    "    :param x: choose from 'loss' or 'acc'\n",
    "    :param y: choose from 'train' or 'valid'\n",
    "    :return: plot the models.\n",
    "    \"\"\"\n",
    "\n",
    "    plt.figure(figsize=(8, 6))\n",
    "    for name in optim_names:\n",
    "        z = torch.load(f'./save/{name}_{x}_{y}.pt')\n",
    "        plt.plot(range(epochs), z, label=name)\n",
    "        plt.xlabel('Epoch')\n",
    "        plt.ylabel(f'{x}-{y}')\n",
    "        plt.grid(True)\n",
    "        plt.legend()"
   ],
   "outputs": [],
   "execution_count": 34
  },
  {
   "metadata": {
    "ExecuteTime": {
     "end_time": "2025-06-22T19:38:45.775485Z",
     "start_time": "2025-06-22T19:38:45.697157Z"
    }
   },
   "cell_type": "code",
   "source": "plot_lcs(x='loss', y='train')",
   "id": "dbacf53d7ede1b0a",
   "outputs": [
    {
     "data": {
      "text/plain": [
       "<Figure size 800x600 with 1 Axes>"
      ],
      "image/png": "[encoded data removed]"
     },
     "metadata": {},
     "output_type": "display_data"
    }
   ],
   "execution_count": 35
  },
  {
   "metadata": {
    "ExecuteTime": {
     "end_time": "2025-06-22T19:38:45.951215Z",
     "start_time": "2025-06-22T19:38:45.863625Z"
    }
   },
   "cell_type": "code",
   "source": "plot_lcs(x='loss', y='valid')",
   "id": "d26f07e3234ca7a6",
   "outputs": [
    {
     "data": {
      "text/plain": [
       "<Figure size 800x600 with 1 Axes>"
      ],
      "image/png": "[encoded data removed]"
     },
     "metadata": {},
     "output_type": "display_data"
    }
   ],
   "execution_count": 36
  },
  {
   "metadata": {
    "ExecuteTime": {
     "end_time": "2025-06-22T19:38:46.116190Z",
     "start_time": "2025-06-22T19:38:46.029838Z"
    }
   },
   "cell_type": "code",
   "source": "plot_lcs(x='acc', y='train')",
   "id": "bc3abb55fb6a549e",
   "outputs": [
    {
     "data": {
      "text/plain": [
       "<Figure size 800x600 with 1 Axes>"
      ],
      "image/png": "[encoded data removed]"
     },
     "metadata": {},
     "output_type": "display_data"
    }
   ],
   "execution_count": 37
  },
  {
   "metadata": {
    "ExecuteTime": {
     "end_time": "2025-06-22T19:38:46.274322Z",
     "start_time": "2025-06-22T19:38:46.195852Z"
    }
   },
   "cell_type": "code",
   "source": "plot_lcs(x='acc', y='valid')",
   "id": "7207550447c423a8",
   "outputs": [
    {
     "data": {
      "text/plain": [
       "<Figure size 800x600 with 1 Axes>"
      ],
      "image/png": "[encoded data removed]"
     },
     "metadata": {},
     "output_type": "display_data"
    }
   ],
   "execution_count": 38
  }
 ],
 "metadata": {
  "kernelspec": {
   "display_name": "Python 3",
   "language": "python",
   "name": "python3"
  },
  "language_info": {
   "codemirror_mode": {
    "name": "ipython",
    "version": 3
   },
   "file_extension": ".py",
   "mimetype": "text/x-python",
   "name": "python",
   "nbconvert_exporter": "python",
   "pygments_lexer": "ipython3",
   "version": "3.11.9"
  }
 },
 "nbformat": 4,
 "nbformat_minor": 5
}
