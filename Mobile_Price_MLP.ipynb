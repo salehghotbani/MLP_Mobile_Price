{
 "cells": [
  {
   "metadata": {},
   "cell_type": "markdown",
   "source": [
    "---\n",
    "### Imports"
   ],
   "id": "2d4e16b7452aadb2"
  },
  {
   "cell_type": "code",
   "id": "initial_id",
   "metadata": {
    "collapsed": true,
    "ExecuteTime": {
     "end_time": "2025-06-04T20:57:41.293474Z",
     "start_time": "2025-06-04T20:57:41.290559Z"
    }
   },
   "source": [
    "import pandas as pd\n",
    "import torch\n",
    "from torchmetrics import Accuracy, F1Score\n",
    "from sklearn.model_selection import train_test_split\n",
    "from torch.utils.data import DataLoader, TensorDataset\n",
    "from matplotlib import pyplot as plt\n",
    "from tqdm import tqdm"
   ],
   "outputs": [],
   "execution_count": 101
  },
  {
   "metadata": {},
   "cell_type": "markdown",
   "source": [
    "---\n",
    "### Load Dataset\n",
    "##### Train:"
   ],
   "id": "9f3ed5cd149e5ed"
  },
  {
   "metadata": {
    "ExecuteTime": {
     "end_time": "2025-06-04T20:57:41.379676Z",
     "start_time": "2025-06-04T20:57:41.372581Z"
    }
   },
   "cell_type": "code",
   "source": [
    "data_frame_train = pd.read_csv('./dataset/train.csv')\n",
    "x = data_frame_train.drop('price_range', axis=1)\n",
    "y = data_frame_train['price_range']"
   ],
   "id": "e0a3c9a4df95c7bc",
   "outputs": [],
   "execution_count": 102
  },
  {
   "metadata": {
    "ExecuteTime": {
     "end_time": "2025-06-04T20:57:41.465063Z",
     "start_time": "2025-06-04T20:57:41.457602Z"
    }
   },
   "cell_type": "code",
   "source": "x",
   "id": "2f3e2798a953610f",
   "outputs": [
    {
     "data": {
      "text/plain": [
       "      battery_power  blue  clock_speed  dual_sim  fc  four_g  int_memory  \\\n",
       "0               842     0          2.2         0   1       0           7   \n",
       "1              1021     1          0.5         1   0       1          53   \n",
       "2               563     1          0.5         1   2       1          41   \n",
       "3               615     1          2.5         0   0       0          10   \n",
       "4              1821     1          1.2         0  13       1          44   \n",
       "...             ...   ...          ...       ...  ..     ...         ...   \n",
       "1995            794     1          0.5         1   0       1           2   \n",
       "1996           1965     1          2.6         1   0       0          39   \n",
       "1997           1911     0          0.9         1   1       1          36   \n",
       "1998           1512     0          0.9         0   4       1          46   \n",
       "1999            510     1          2.0         1   5       1          45   \n",
       "\n",
       "      m_dep  mobile_wt  n_cores  pc  px_height  px_width   ram  sc_h  sc_w  \\\n",
       "0       0.6        188        2   2         20       756  2549     9     7   \n",
       "1       0.7        136        3   6        905      1988  2631    17     3   \n",
       "2       0.9        145        5   6       1263      1716  2603    11     2   \n",
       "3       0.8        131        6   9       1216      1786  2769    16     8   \n",
       "4       0.6        141        2  14       1208      1212  1411     8     2   \n",
       "...     ...        ...      ...  ..        ...       ...   ...   ...   ...   \n",
       "1995    0.8        106        6  14       1222      1890   668    13     4   \n",
       "1996    0.2        187        4   3        915      1965  2032    11    10   \n",
       "1997    0.7        108        8   3        868      1632  3057     9     1   \n",
       "1998    0.1        145        5   5        336       670   869    18    10   \n",
       "1999    0.9        168        6  16        483       754  3919    19     4   \n",
       "\n",
       "      talk_time  three_g  touch_screen  wifi  \n",
       "0            19        0             0     1  \n",
       "1             7        1             1     0  \n",
       "2             9        1             1     0  \n",
       "3            11        1             0     0  \n",
       "4            15        1             1     0  \n",
       "...         ...      ...           ...   ...  \n",
       "1995         19        1             1     0  \n",
       "1996         16        1             1     1  \n",
       "1997          5        1             1     0  \n",
       "1998         19        1             1     1  \n",
       "1999          2        1             1     1  \n",
       "\n",
       "[2000 rows x 20 columns]"
      ],
      "text/html": [
       "<div>\n",
       "<style scoped>\n",
       "    .dataframe tbody tr th:only-of-type {\n",
       "        vertical-align: middle;\n",
       "    }\n",
       "\n",
       "    .dataframe tbody tr th {\n",
       "        vertical-align: top;\n",
       "    }\n",
       "\n",
       "    .dataframe thead th {\n",
       "        text-align: right;\n",
       "    }\n",
       "</style>\n",
       "<table border=\"1\" class=\"dataframe\">\n",
       "  <thead>\n",
       "    <tr style=\"text-align: right;\">\n",
       "      <th></th>\n",
       "      <th>battery_power</th>\n",
       "      <th>blue</th>\n",
       "      <th>clock_speed</th>\n",
       "      <th>dual_sim</th>\n",
       "      <th>fc</th>\n",
       "      <th>four_g</th>\n",
       "      <th>int_memory</th>\n",
       "      <th>m_dep</th>\n",
       "      <th>mobile_wt</th>\n",
       "      <th>n_cores</th>\n",
       "      <th>pc</th>\n",
       "      <th>px_height</th>\n",
       "      <th>px_width</th>\n",
       "      <th>ram</th>\n",
       "      <th>sc_h</th>\n",
       "      <th>sc_w</th>\n",
       "      <th>talk_time</th>\n",
       "      <th>three_g</th>\n",
       "      <th>touch_screen</th>\n",
       "      <th>wifi</th>\n",
       "    </tr>\n",
       "  </thead>\n",
       "  <tbody>\n",
       "    <tr>\n",
       "      <th>0</th>\n",
       "      <td>842</td>\n",
       "      <td>0</td>\n",
       "      <td>2.2</td>\n",
       "      <td>0</td>\n",
       "      <td>1</td>\n",
       "      <td>0</td>\n",
       "      <td>7</td>\n",
       "      <td>0.6</td>\n",
       "      <td>188</td>\n",
       "      <td>2</td>\n",
       "      <td>2</td>\n",
       "      <td>20</td>\n",
       "      <td>756</td>\n",
       "      <td>2549</td>\n",
       "      <td>9</td>\n",
       "      <td>7</td>\n",
       "      <td>19</td>\n",
       "      <td>0</td>\n",
       "      <td>0</td>\n",
       "      <td>1</td>\n",
       "    </tr>\n",
       "    <tr>\n",
       "      <th>1</th>\n",
       "      <td>1021</td>\n",
       "      <td>1</td>\n",
       "      <td>0.5</td>\n",
       "      <td>1</td>\n",
       "      <td>0</td>\n",
       "      <td>1</td>\n",
       "      <td>53</td>\n",
       "      <td>0.7</td>\n",
       "      <td>136</td>\n",
       "      <td>3</td>\n",
       "      <td>6</td>\n",
       "      <td>905</td>\n",
       "      <td>1988</td>\n",
       "      <td>2631</td>\n",
       "      <td>17</td>\n",
       "      <td>3</td>\n",
       "      <td>7</td>\n",
       "      <td>1</td>\n",
       "      <td>1</td>\n",
       "      <td>0</td>\n",
       "    </tr>\n",
       "    <tr>\n",
       "      <th>2</th>\n",
       "      <td>563</td>\n",
       "      <td>1</td>\n",
       "      <td>0.5</td>\n",
       "      <td>1</td>\n",
       "      <td>2</td>\n",
       "      <td>1</td>\n",
       "      <td>41</td>\n",
       "      <td>0.9</td>\n",
       "      <td>145</td>\n",
       "      <td>5</td>\n",
       "      <td>6</td>\n",
       "      <td>1263</td>\n",
       "      <td>1716</td>\n",
       "      <td>2603</td>\n",
       "      <td>11</td>\n",
       "      <td>2</td>\n",
       "      <td>9</td>\n",
       "      <td>1</td>\n",
       "      <td>1</td>\n",
       "      <td>0</td>\n",
       "    </tr>\n",
       "    <tr>\n",
       "      <th>3</th>\n",
       "      <td>615</td>\n",
       "      <td>1</td>\n",
       "      <td>2.5</td>\n",
       "      <td>0</td>\n",
       "      <td>0</td>\n",
       "      <td>0</td>\n",
       "      <td>10</td>\n",
       "      <td>0.8</td>\n",
       "      <td>131</td>\n",
       "      <td>6</td>\n",
       "      <td>9</td>\n",
       "      <td>1216</td>\n",
       "      <td>1786</td>\n",
       "      <td>2769</td>\n",
       "      <td>16</td>\n",
       "      <td>8</td>\n",
       "      <td>11</td>\n",
       "      <td>1</td>\n",
       "      <td>0</td>\n",
       "      <td>0</td>\n",
       "    </tr>\n",
       "    <tr>\n",
       "      <th>4</th>\n",
       "      <td>1821</td>\n",
       "      <td>1</td>\n",
       "      <td>1.2</td>\n",
       "      <td>0</td>\n",
       "      <td>13</td>\n",
       "      <td>1</td>\n",
       "      <td>44</td>\n",
       "      <td>0.6</td>\n",
       "      <td>141</td>\n",
       "      <td>2</td>\n",
       "      <td>14</td>\n",
       "      <td>1208</td>\n",
       "      <td>1212</td>\n",
       "      <td>1411</td>\n",
       "      <td>8</td>\n",
       "      <td>2</td>\n",
       "      <td>15</td>\n",
       "      <td>1</td>\n",
       "      <td>1</td>\n",
       "      <td>0</td>\n",
       "    </tr>\n",
       "    <tr>\n",
       "      <th>...</th>\n",
       "      <td>...</td>\n",
       "      <td>...</td>\n",
       "      <td>...</td>\n",
       "      <td>...</td>\n",
       "      <td>...</td>\n",
       "      <td>...</td>\n",
       "      <td>...</td>\n",
       "      <td>...</td>\n",
       "      <td>...</td>\n",
       "      <td>...</td>\n",
       "      <td>...</td>\n",
       "      <td>...</td>\n",
       "      <td>...</td>\n",
       "      <td>...</td>\n",
       "      <td>...</td>\n",
       "      <td>...</td>\n",
       "      <td>...</td>\n",
       "      <td>...</td>\n",
       "      <td>...</td>\n",
       "      <td>...</td>\n",
       "    </tr>\n",
       "    <tr>\n",
       "      <th>1995</th>\n",
       "      <td>794</td>\n",
       "      <td>1</td>\n",
       "      <td>0.5</td>\n",
       "      <td>1</td>\n",
       "      <td>0</td>\n",
       "      <td>1</td>\n",
       "      <td>2</td>\n",
       "      <td>0.8</td>\n",
       "      <td>106</td>\n",
       "      <td>6</td>\n",
       "      <td>14</td>\n",
       "      <td>1222</td>\n",
       "      <td>1890</td>\n",
       "      <td>668</td>\n",
       "      <td>13</td>\n",
       "      <td>4</td>\n",
       "      <td>19</td>\n",
       "      <td>1</td>\n",
       "      <td>1</td>\n",
       "      <td>0</td>\n",
       "    </tr>\n",
       "    <tr>\n",
       "      <th>1996</th>\n",
       "      <td>1965</td>\n",
       "      <td>1</td>\n",
       "      <td>2.6</td>\n",
       "      <td>1</td>\n",
       "      <td>0</td>\n",
       "      <td>0</td>\n",
       "      <td>39</td>\n",
       "      <td>0.2</td>\n",
       "      <td>187</td>\n",
       "      <td>4</td>\n",
       "      <td>3</td>\n",
       "      <td>915</td>\n",
       "      <td>1965</td>\n",
       "      <td>2032</td>\n",
       "      <td>11</td>\n",
       "      <td>10</td>\n",
       "      <td>16</td>\n",
       "      <td>1</td>\n",
       "      <td>1</td>\n",
       "      <td>1</td>\n",
       "    </tr>\n",
       "    <tr>\n",
       "      <th>1997</th>\n",
       "      <td>1911</td>\n",
       "      <td>0</td>\n",
       "      <td>0.9</td>\n",
       "      <td>1</td>\n",
       "      <td>1</td>\n",
       "      <td>1</td>\n",
       "      <td>36</td>\n",
       "      <td>0.7</td>\n",
       "      <td>108</td>\n",
       "      <td>8</td>\n",
       "      <td>3</td>\n",
       "      <td>868</td>\n",
       "      <td>1632</td>\n",
       "      <td>3057</td>\n",
       "      <td>9</td>\n",
       "      <td>1</td>\n",
       "      <td>5</td>\n",
       "      <td>1</td>\n",
       "      <td>1</td>\n",
       "      <td>0</td>\n",
       "    </tr>\n",
       "    <tr>\n",
       "      <th>1998</th>\n",
       "      <td>1512</td>\n",
       "      <td>0</td>\n",
       "      <td>0.9</td>\n",
       "      <td>0</td>\n",
       "      <td>4</td>\n",
       "      <td>1</td>\n",
       "      <td>46</td>\n",
       "      <td>0.1</td>\n",
       "      <td>145</td>\n",
       "      <td>5</td>\n",
       "      <td>5</td>\n",
       "      <td>336</td>\n",
       "      <td>670</td>\n",
       "      <td>869</td>\n",
       "      <td>18</td>\n",
       "      <td>10</td>\n",
       "      <td>19</td>\n",
       "      <td>1</td>\n",
       "      <td>1</td>\n",
       "      <td>1</td>\n",
       "    </tr>\n",
       "    <tr>\n",
       "      <th>1999</th>\n",
       "      <td>510</td>\n",
       "      <td>1</td>\n",
       "      <td>2.0</td>\n",
       "      <td>1</td>\n",
       "      <td>5</td>\n",
       "      <td>1</td>\n",
       "      <td>45</td>\n",
       "      <td>0.9</td>\n",
       "      <td>168</td>\n",
       "      <td>6</td>\n",
       "      <td>16</td>\n",
       "      <td>483</td>\n",
       "      <td>754</td>\n",
       "      <td>3919</td>\n",
       "      <td>19</td>\n",
       "      <td>4</td>\n",
       "      <td>2</td>\n",
       "      <td>1</td>\n",
       "      <td>1</td>\n",
       "      <td>1</td>\n",
       "    </tr>\n",
       "  </tbody>\n",
       "</table>\n",
       "<p>2000 rows × 20 columns</p>\n",
       "</div>"
      ]
     },
     "execution_count": 103,
     "metadata": {},
     "output_type": "execute_result"
    }
   ],
   "execution_count": 103
  },
  {
   "metadata": {
    "ExecuteTime": {
     "end_time": "2025-06-04T20:57:41.580124Z",
     "start_time": "2025-06-04T20:57:41.575901Z"
    }
   },
   "cell_type": "code",
   "source": "y",
   "id": "ec2df62448a2f0b7",
   "outputs": [
    {
     "data": {
      "text/plain": [
       "0       1\n",
       "1       2\n",
       "2       2\n",
       "3       2\n",
       "4       1\n",
       "       ..\n",
       "1995    0\n",
       "1996    2\n",
       "1997    3\n",
       "1998    0\n",
       "1999    3\n",
       "Name: price_range, Length: 2000, dtype: int64"
      ]
     },
     "execution_count": 104,
     "metadata": {},
     "output_type": "execute_result"
    }
   ],
   "execution_count": 104
  },
  {
   "metadata": {
    "ExecuteTime": {
     "end_time": "2025-06-04T20:57:41.706838Z",
     "start_time": "2025-06-04T20:57:41.703022Z"
    }
   },
   "cell_type": "code",
   "source": "x_train, x_valid, y_train, y_valid = train_test_split(x, y, train_size=0.7, random_state=42)",
   "id": "df501cdad33585fe",
   "outputs": [],
   "execution_count": 105
  },
  {
   "metadata": {
    "ExecuteTime": {
     "end_time": "2025-06-04T20:57:41.945711Z",
     "start_time": "2025-06-04T20:57:41.938427Z"
    }
   },
   "cell_type": "code",
   "source": "x_train",
   "id": "318a36bfcc09e5c9",
   "outputs": [
    {
     "data": {
      "text/plain": [
       "      battery_power  blue  clock_speed  dual_sim  fc  four_g  int_memory  \\\n",
       "836             902     1          0.6         1   0       0          63   \n",
       "575            1197     1          0.5         1   9       0          20   \n",
       "557            1519     0          2.1         0   0       0          32   \n",
       "1235           1971     1          0.5         1   0       0          40   \n",
       "1360            882     0          0.7         1   9       1          28   \n",
       "...             ...   ...          ...       ...  ..     ...         ...   \n",
       "1130           1975     1          1.9         1   2       0          31   \n",
       "1294            589     1          0.5         0   1       1          59   \n",
       "860            1829     1          0.5         0   0       1          15   \n",
       "1459           1927     0          0.9         1   3       0          11   \n",
       "1126            635     1          0.6         1   1       1          50   \n",
       "\n",
       "      m_dep  mobile_wt  n_cores  pc  px_height  px_width   ram  sc_h  sc_w  \\\n",
       "836     0.7        122        5  14        364      1360  3654    18     8   \n",
       "575     0.1        129        5  10        214      1710  2885    19     7   \n",
       "557     0.7        200        1  10        168      1239  2912    11    10   \n",
       "1235    0.3        186        7  19        485       922   571     8     7   \n",
       "1360    0.2        151        6  16        248       884   751    19    11   \n",
       "...     ...        ...      ...  ..        ...       ...   ...   ...   ...   \n",
       "1130    0.9        151        1  17        775      1607  3022    13     5   \n",
       "1294    0.7        146        8   4        759      1858   362    16    10   \n",
       "860     0.4        160        5   7        729      1267  2080    16    11   \n",
       "1459    0.4        190        8  12        491      1506  2916    16    11   \n",
       "1126    0.3         97        5  13        193       989  2107    13    12   \n",
       "\n",
       "      talk_time  three_g  touch_screen  wifi  \n",
       "836          15        0             1     1  \n",
       "575          14        1             1     1  \n",
       "557          15        1             1     0  \n",
       "1235         17        1             1     0  \n",
       "1360          8        1             0     1  \n",
       "...         ...      ...           ...   ...  \n",
       "1130         19        0             0     1  \n",
       "1294          6        1             1     1  \n",
       "860          12        1             0     1  \n",
       "1459         18        0             1     1  \n",
       "1126         12        1             0     0  \n",
       "\n",
       "[1400 rows x 20 columns]"
      ],
      "text/html": [
       "<div>\n",
       "<style scoped>\n",
       "    .dataframe tbody tr th:only-of-type {\n",
       "        vertical-align: middle;\n",
       "    }\n",
       "\n",
       "    .dataframe tbody tr th {\n",
       "        vertical-align: top;\n",
       "    }\n",
       "\n",
       "    .dataframe thead th {\n",
       "        text-align: right;\n",
       "    }\n",
       "</style>\n",
       "<table border=\"1\" class=\"dataframe\">\n",
       "  <thead>\n",
       "    <tr style=\"text-align: right;\">\n",
       "      <th></th>\n",
       "      <th>battery_power</th>\n",
       "      <th>blue</th>\n",
       "      <th>clock_speed</th>\n",
       "      <th>dual_sim</th>\n",
       "      <th>fc</th>\n",
       "      <th>four_g</th>\n",
       "      <th>int_memory</th>\n",
       "      <th>m_dep</th>\n",
       "      <th>mobile_wt</th>\n",
       "      <th>n_cores</th>\n",
       "      <th>pc</th>\n",
       "      <th>px_height</th>\n",
       "      <th>px_width</th>\n",
       "      <th>ram</th>\n",
       "      <th>sc_h</th>\n",
       "      <th>sc_w</th>\n",
       "      <th>talk_time</th>\n",
       "      <th>three_g</th>\n",
       "      <th>touch_screen</th>\n",
       "      <th>wifi</th>\n",
       "    </tr>\n",
       "  </thead>\n",
       "  <tbody>\n",
       "    <tr>\n",
       "      <th>836</th>\n",
       "      <td>902</td>\n",
       "      <td>1</td>\n",
       "      <td>0.6</td>\n",
       "      <td>1</td>\n",
       "      <td>0</td>\n",
       "      <td>0</td>\n",
       "      <td>63</td>\n",
       "      <td>0.7</td>\n",
       "      <td>122</td>\n",
       "      <td>5</td>\n",
       "      <td>14</td>\n",
       "      <td>364</td>\n",
       "      <td>1360</td>\n",
       "      <td>3654</td>\n",
       "      <td>18</td>\n",
       "      <td>8</td>\n",
       "      <td>15</td>\n",
       "      <td>0</td>\n",
       "      <td>1</td>\n",
       "      <td>1</td>\n",
       "    </tr>\n",
       "    <tr>\n",
       "      <th>575</th>\n",
       "      <td>1197</td>\n",
       "      <td>1</td>\n",
       "      <td>0.5</td>\n",
       "      <td>1</td>\n",
       "      <td>9</td>\n",
       "      <td>0</td>\n",
       "      <td>20</td>\n",
       "      <td>0.1</td>\n",
       "      <td>129</td>\n",
       "      <td>5</td>\n",
       "      <td>10</td>\n",
       "      <td>214</td>\n",
       "      <td>1710</td>\n",
       "      <td>2885</td>\n",
       "      <td>19</td>\n",
       "      <td>7</td>\n",
       "      <td>14</td>\n",
       "      <td>1</td>\n",
       "      <td>1</td>\n",
       "      <td>1</td>\n",
       "    </tr>\n",
       "    <tr>\n",
       "      <th>557</th>\n",
       "      <td>1519</td>\n",
       "      <td>0</td>\n",
       "      <td>2.1</td>\n",
       "      <td>0</td>\n",
       "      <td>0</td>\n",
       "      <td>0</td>\n",
       "      <td>32</td>\n",
       "      <td>0.7</td>\n",
       "      <td>200</td>\n",
       "      <td>1</td>\n",
       "      <td>10</td>\n",
       "      <td>168</td>\n",
       "      <td>1239</td>\n",
       "      <td>2912</td>\n",
       "      <td>11</td>\n",
       "      <td>10</td>\n",
       "      <td>15</td>\n",
       "      <td>1</td>\n",
       "      <td>1</td>\n",
       "      <td>0</td>\n",
       "    </tr>\n",
       "    <tr>\n",
       "      <th>1235</th>\n",
       "      <td>1971</td>\n",
       "      <td>1</td>\n",
       "      <td>0.5</td>\n",
       "      <td>1</td>\n",
       "      <td>0</td>\n",
       "      <td>0</td>\n",
       "      <td>40</td>\n",
       "      <td>0.3</td>\n",
       "      <td>186</td>\n",
       "      <td>7</td>\n",
       "      <td>19</td>\n",
       "      <td>485</td>\n",
       "      <td>922</td>\n",
       "      <td>571</td>\n",
       "      <td>8</td>\n",
       "      <td>7</td>\n",
       "      <td>17</td>\n",
       "      <td>1</td>\n",
       "      <td>1</td>\n",
       "      <td>0</td>\n",
       "    </tr>\n",
       "    <tr>\n",
       "      <th>1360</th>\n",
       "      <td>882</td>\n",
       "      <td>0</td>\n",
       "      <td>0.7</td>\n",
       "      <td>1</td>\n",
       "      <td>9</td>\n",
       "      <td>1</td>\n",
       "      <td>28</td>\n",
       "      <td>0.2</td>\n",
       "      <td>151</td>\n",
       "      <td>6</td>\n",
       "      <td>16</td>\n",
       "      <td>248</td>\n",
       "      <td>884</td>\n",
       "      <td>751</td>\n",
       "      <td>19</td>\n",
       "      <td>11</td>\n",
       "      <td>8</td>\n",
       "      <td>1</td>\n",
       "      <td>0</td>\n",
       "      <td>1</td>\n",
       "    </tr>\n",
       "    <tr>\n",
       "      <th>...</th>\n",
       "      <td>...</td>\n",
       "      <td>...</td>\n",
       "      <td>...</td>\n",
       "      <td>...</td>\n",
       "      <td>...</td>\n",
       "      <td>...</td>\n",
       "      <td>...</td>\n",
       "      <td>...</td>\n",
       "      <td>...</td>\n",
       "      <td>...</td>\n",
       "      <td>...</td>\n",
       "      <td>...</td>\n",
       "      <td>...</td>\n",
       "      <td>...</td>\n",
       "      <td>...</td>\n",
       "      <td>...</td>\n",
       "      <td>...</td>\n",
       "      <td>...</td>\n",
       "      <td>...</td>\n",
       "      <td>...</td>\n",
       "    </tr>\n",
       "    <tr>\n",
       "      <th>1130</th>\n",
       "      <td>1975</td>\n",
       "      <td>1</td>\n",
       "      <td>1.9</td>\n",
       "      <td>1</td>\n",
       "      <td>2</td>\n",
       "      <td>0</td>\n",
       "      <td>31</td>\n",
       "      <td>0.9</td>\n",
       "      <td>151</td>\n",
       "      <td>1</td>\n",
       "      <td>17</td>\n",
       "      <td>775</td>\n",
       "      <td>1607</td>\n",
       "      <td>3022</td>\n",
       "      <td>13</td>\n",
       "      <td>5</td>\n",
       "      <td>19</td>\n",
       "      <td>0</td>\n",
       "      <td>0</td>\n",
       "      <td>1</td>\n",
       "    </tr>\n",
       "    <tr>\n",
       "      <th>1294</th>\n",
       "      <td>589</td>\n",
       "      <td>1</td>\n",
       "      <td>0.5</td>\n",
       "      <td>0</td>\n",
       "      <td>1</td>\n",
       "      <td>1</td>\n",
       "      <td>59</td>\n",
       "      <td>0.7</td>\n",
       "      <td>146</td>\n",
       "      <td>8</td>\n",
       "      <td>4</td>\n",
       "      <td>759</td>\n",
       "      <td>1858</td>\n",
       "      <td>362</td>\n",
       "      <td>16</td>\n",
       "      <td>10</td>\n",
       "      <td>6</td>\n",
       "      <td>1</td>\n",
       "      <td>1</td>\n",
       "      <td>1</td>\n",
       "    </tr>\n",
       "    <tr>\n",
       "      <th>860</th>\n",
       "      <td>1829</td>\n",
       "      <td>1</td>\n",
       "      <td>0.5</td>\n",
       "      <td>0</td>\n",
       "      <td>0</td>\n",
       "      <td>1</td>\n",
       "      <td>15</td>\n",
       "      <td>0.4</td>\n",
       "      <td>160</td>\n",
       "      <td>5</td>\n",
       "      <td>7</td>\n",
       "      <td>729</td>\n",
       "      <td>1267</td>\n",
       "      <td>2080</td>\n",
       "      <td>16</td>\n",
       "      <td>11</td>\n",
       "      <td>12</td>\n",
       "      <td>1</td>\n",
       "      <td>0</td>\n",
       "      <td>1</td>\n",
       "    </tr>\n",
       "    <tr>\n",
       "      <th>1459</th>\n",
       "      <td>1927</td>\n",
       "      <td>0</td>\n",
       "      <td>0.9</td>\n",
       "      <td>1</td>\n",
       "      <td>3</td>\n",
       "      <td>0</td>\n",
       "      <td>11</td>\n",
       "      <td>0.4</td>\n",
       "      <td>190</td>\n",
       "      <td>8</td>\n",
       "      <td>12</td>\n",
       "      <td>491</td>\n",
       "      <td>1506</td>\n",
       "      <td>2916</td>\n",
       "      <td>16</td>\n",
       "      <td>11</td>\n",
       "      <td>18</td>\n",
       "      <td>0</td>\n",
       "      <td>1</td>\n",
       "      <td>1</td>\n",
       "    </tr>\n",
       "    <tr>\n",
       "      <th>1126</th>\n",
       "      <td>635</td>\n",
       "      <td>1</td>\n",
       "      <td>0.6</td>\n",
       "      <td>1</td>\n",
       "      <td>1</td>\n",
       "      <td>1</td>\n",
       "      <td>50</td>\n",
       "      <td>0.3</td>\n",
       "      <td>97</td>\n",
       "      <td>5</td>\n",
       "      <td>13</td>\n",
       "      <td>193</td>\n",
       "      <td>989</td>\n",
       "      <td>2107</td>\n",
       "      <td>13</td>\n",
       "      <td>12</td>\n",
       "      <td>12</td>\n",
       "      <td>1</td>\n",
       "      <td>0</td>\n",
       "      <td>0</td>\n",
       "    </tr>\n",
       "  </tbody>\n",
       "</table>\n",
       "<p>1400 rows × 20 columns</p>\n",
       "</div>"
      ]
     },
     "execution_count": 106,
     "metadata": {},
     "output_type": "execute_result"
    }
   ],
   "execution_count": 106
  },
  {
   "metadata": {},
   "cell_type": "markdown",
   "source": [
    "---\n",
    "### Preprocessing"
   ],
   "id": "ae88a672c7fe33f9"
  },
  {
   "metadata": {
    "ExecuteTime": {
     "end_time": "2025-06-04T20:57:42.157788Z",
     "start_time": "2025-06-04T20:57:42.154484Z"
    }
   },
   "cell_type": "code",
   "source": [
    "x_train = torch.FloatTensor(x_train.values)\n",
    "y_train = torch.LongTensor(y_train.values)"
   ],
   "id": "c9d7c8a34b372314",
   "outputs": [],
   "execution_count": 107
  },
  {
   "metadata": {
    "ExecuteTime": {
     "end_time": "2025-06-04T20:57:42.262360Z",
     "start_time": "2025-06-04T20:57:42.259140Z"
    }
   },
   "cell_type": "code",
   "source": [
    "x_valid = torch.FloatTensor(x_valid.values)\n",
    "y_valid = torch.LongTensor(y_valid.values)"
   ],
   "id": "34ab5a5fc8991328",
   "outputs": [],
   "execution_count": 108
  },
  {
   "metadata": {},
   "cell_type": "markdown",
   "source": [
    "---\n",
    "### Normalization (Standardization)"
   ],
   "id": "401245d805079bee"
  },
  {
   "metadata": {
    "ExecuteTime": {
     "end_time": "2025-06-04T20:57:42.475514Z",
     "start_time": "2025-06-04T20:57:42.471695Z"
    }
   },
   "cell_type": "code",
   "source": [
    "mu = x_train.mean(dim=0)\n",
    "std = x_train.std(dim=0)\n",
    "x_train = (x_train - mu) / std\n",
    "x_valid = (x_valid - mu) / std"
   ],
   "id": "e72bbe6790a2010c",
   "outputs": [],
   "execution_count": 109
  },
  {
   "metadata": {},
   "cell_type": "markdown",
   "source": [
    "---\n",
    "### Dataloader"
   ],
   "id": "3f5b681d9d97e090"
  },
  {
   "metadata": {
    "ExecuteTime": {
     "end_time": "2025-06-04T20:57:42.563417Z",
     "start_time": "2025-06-04T20:57:42.560587Z"
    }
   },
   "cell_type": "code",
   "source": [
    "train_dataset = TensorDataset(x_train, y_train)\n",
    "train_loader = DataLoader(train_dataset, batch_size=600, shuffle=True)\n",
    "\n",
    "valid_dataset = TensorDataset(x_valid, y_valid)\n",
    "valid_loader = DataLoader(valid_dataset, batch_size=800, shuffle=False)"
   ],
   "id": "ff5cbd21495335c7",
   "outputs": [],
   "execution_count": 110
  },
  {
   "metadata": {},
   "cell_type": "markdown",
   "source": [
    "---\n",
    "### Define Model"
   ],
   "id": "2ee614f3c1bc1e68"
  },
  {
   "metadata": {
    "ExecuteTime": {
     "end_time": "2025-06-04T20:57:42.645491Z",
     "start_time": "2025-06-04T20:57:42.640933Z"
    }
   },
   "cell_type": "code",
   "source": [
    "num_feats = 20\n",
    "out_feats = 4\n",
    "h1 = 64\n",
    "h2 = 32\n",
    "\n",
    "model = torch.nn.Sequential(torch.nn.Linear(num_feats, h1),\n",
    "                            torch.nn.ReLU(),\n",
    "                            # torch.nn.Dropout(0.5),\n",
    "                            torch.nn.Linear(h1, h2),\n",
    "                            torch.nn.ReLU(),\n",
    "                            torch.nn.Linear(h2, out_feats))\n",
    "model"
   ],
   "id": "8531f484d1c8635d",
   "outputs": [
    {
     "data": {
      "text/plain": [
       "Sequential(\n",
       "  (0): Linear(in_features=20, out_features=64, bias=True)\n",
       "  (1): ReLU()\n",
       "  (2): Linear(in_features=64, out_features=32, bias=True)\n",
       "  (3): ReLU()\n",
       "  (4): Linear(in_features=32, out_features=4, bias=True)\n",
       ")"
      ]
     },
     "execution_count": 111,
     "metadata": {},
     "output_type": "execute_result"
    }
   ],
   "execution_count": 111
  },
  {
   "metadata": {},
   "cell_type": "markdown",
   "source": [
    "---\n",
    "### Device"
   ],
   "id": "f158b89c8383f856"
  },
  {
   "metadata": {
    "ExecuteTime": {
     "end_time": "2025-06-04T20:57:42.730508Z",
     "start_time": "2025-06-04T20:57:42.723003Z"
    }
   },
   "cell_type": "code",
   "source": [
    "device = 'cuda' if torch.cuda.is_available() else 'cpu'\n",
    "model = model.to(device)\n",
    "device"
   ],
   "id": "7680e5b67ae75898",
   "outputs": [
    {
     "data": {
      "text/plain": [
       "'cuda'"
      ]
     },
     "execution_count": 112,
     "metadata": {},
     "output_type": "execute_result"
    }
   ],
   "execution_count": 112
  },
  {
   "metadata": {},
   "cell_type": "markdown",
   "source": [
    "---\n",
    "### Loss Function"
   ],
   "id": "da06a9b37f92a792"
  },
  {
   "metadata": {
    "ExecuteTime": {
     "end_time": "2025-06-04T20:57:42.807672Z",
     "start_time": "2025-06-04T20:57:42.805577Z"
    }
   },
   "cell_type": "code",
   "source": "loss_fn = torch.nn.CrossEntropyLoss()",
   "id": "13229dac0ddc87d7",
   "outputs": [],
   "execution_count": 113
  },
  {
   "metadata": {},
   "cell_type": "markdown",
   "source": [
    "---\n",
    "### Optimizer"
   ],
   "id": "e6c2c3b4adf2cdc"
  },
  {
   "metadata": {
    "ExecuteTime": {
     "end_time": "2025-06-04T20:57:42.873849Z",
     "start_time": "2025-06-04T20:57:42.870845Z"
    }
   },
   "cell_type": "code",
   "source": [
    "optimizer = torch.optim.SGD(model.parameters(),\n",
    "                            lr=0.01,\n",
    "                            momentum=0.9,\n",
    "                            nesterov=True,\n",
    "                            weight_decay=1e-4)"
   ],
   "id": "e6c661c137f4aefb",
   "outputs": [],
   "execution_count": 114
  },
  {
   "metadata": {},
   "cell_type": "markdown",
   "source": [
    "---\n",
    "### AverageMeter"
   ],
   "id": "6e1ae78ad8e8f0ac"
  },
  {
   "metadata": {
    "ExecuteTime": {
     "end_time": "2025-06-04T20:57:42.960871Z",
     "start_time": "2025-06-04T20:57:42.957414Z"
    }
   },
   "cell_type": "code",
   "source": [
    "class AverageMeter(object):\n",
    "    \"\"\"Computes and stores the average and current value\"\"\"\n",
    "\n",
    "    def __init__(self):\n",
    "        self.reset()\n",
    "\n",
    "    def reset(self):\n",
    "        self.val = 0\n",
    "        self.avg = 0\n",
    "        self.sum = 0\n",
    "        self.count = 0\n",
    "\n",
    "    def update(self, val, n=1):\n",
    "        self.val = val\n",
    "        self.sum += val * n\n",
    "        self.count += n\n",
    "        self.avg = self.sum / self.count"
   ],
   "id": "2a6e2c980373ee59",
   "outputs": [],
   "execution_count": 115
  },
  {
   "metadata": {},
   "cell_type": "markdown",
   "source": [
    "---\n",
    "### Methods of train and validate model:"
   ],
   "id": "dd5152dd072c3d93"
  },
  {
   "metadata": {
    "ExecuteTime": {
     "end_time": "2025-06-04T20:57:43.041153Z",
     "start_time": "2025-06-04T20:57:43.036183Z"
    }
   },
   "cell_type": "code",
   "source": [
    "def train_one_epoch(model, train_loader, loss_fn, optimizer, epoch):\n",
    "    model.train()\n",
    "    loss_train = AverageMeter()\n",
    "    acc_train = Accuracy(task=\"multiclass\", num_classes=4).to(device)\n",
    "    f1_train = F1Score(task=\"multiclass\", num_classes=4).to(device)\n",
    "\n",
    "    with tqdm(train_loader, unit='batch') as t_loader:\n",
    "        for data, target in t_loader:\n",
    "            data = data.to(device)\n",
    "            target = target.to(device)\n",
    "\n",
    "            predict = model(data)\n",
    "            loss = loss_fn(predict.squeeze(), target)\n",
    "            loss.backward()\n",
    "            optimizer.step()\n",
    "            optimizer.zero_grad()\n",
    "\n",
    "            loss_train.update(loss.item())\n",
    "            acc_train(predict, target)\n",
    "            f1_train(predict, target)\n",
    "\n",
    "            t_loader.set_description(f\"Epoch: {epoch}\")\n",
    "            t_loader.set_postfix(loss=loss_train.avg,\n",
    "                                 accuracy=f\"{(acc_train.compute().cpu().item() * 100):.4}%\",\n",
    "                                 f1=f\"{(f1_train.compute().cpu().item() * 100):.4}%\")\n",
    "\n",
    "    return model, loss_train.avg, acc_train.compute(), f1_train.compute()"
   ],
   "id": "4dc7a1e855c2638f",
   "outputs": [],
   "execution_count": 116
  },
  {
   "metadata": {
    "ExecuteTime": {
     "end_time": "2025-06-04T20:57:43.127532Z",
     "start_time": "2025-06-04T20:57:43.124477Z"
    }
   },
   "cell_type": "code",
   "source": [
    "def valid_one_epoch(model, valid_loader, loss_fn):\n",
    "    model.eval()\n",
    "    with torch.no_grad():\n",
    "        loss_valid = AverageMeter()\n",
    "        acc_valid = Accuracy(task=\"multiclass\", num_classes=4).to(device)\n",
    "        f1_valid = F1Score(task=\"multiclass\", num_classes=4).to(device)\n",
    "        for data, target in valid_loader:\n",
    "            data = data.to(device)\n",
    "            target = target.to(device)\n",
    "\n",
    "            predict = model(data)\n",
    "            loss = loss_fn(predict.squeeze(), target)\n",
    "\n",
    "            loss_valid.update(loss.item())\n",
    "            acc_valid(predict, target)\n",
    "            f1_valid(predict, target)\n",
    "\n",
    "    return loss_valid.avg, acc_valid.compute(), f1_valid.compute()\n"
   ],
   "id": "49874c3dca148bf3",
   "outputs": [],
   "execution_count": 117
  },
  {
   "metadata": {},
   "cell_type": "markdown",
   "source": [
    "---\n",
    "### Train"
   ],
   "id": "968c752fb9ae7954"
  },
  {
   "metadata": {
    "ExecuteTime": {
     "end_time": "2025-06-04T20:57:43.226584Z",
     "start_time": "2025-06-04T20:57:43.223583Z"
    }
   },
   "cell_type": "code",
   "source": "epochs = 100",
   "id": "bd499c1b375d67b1",
   "outputs": [],
   "execution_count": 118
  },
  {
   "metadata": {
    "ExecuteTime": {
     "end_time": "2025-06-04T20:57:43.323976Z",
     "start_time": "2025-06-04T20:57:43.320973Z"
    }
   },
   "cell_type": "code",
   "source": [
    "hist_loss_train = []\n",
    "hist_loss_valid = []\n",
    "\n",
    "hist_acc_train = []\n",
    "hist_acc_valid = []\n",
    "\n",
    "hist_f1_train = []\n",
    "hist_f1_valid = []"
   ],
   "id": "818ed5d694247f71",
   "outputs": [],
   "execution_count": 119
  },
  {
   "metadata": {
    "ExecuteTime": {
     "end_time": "2025-06-04T20:57:50.040366Z",
     "start_time": "2025-06-04T20:57:43.375321Z"
    }
   },
   "cell_type": "code",
   "source": [
    "for epoch in range(epochs):\n",
    "    model, loss_train, acc_train, f1_train = train_one_epoch(model=model,\n",
    "                                                             train_loader=train_loader,\n",
    "                                                             loss_fn=loss_fn,\n",
    "                                                             optimizer=optimizer,\n",
    "                                                             epoch=epoch)\n",
    "\n",
    "    loss_valid, acc_valid, f1_valid = valid_one_epoch(model=model, valid_loader=valid_loader, loss_fn=loss_fn)\n",
    "\n",
    "    hist_loss_train.append(loss_train)\n",
    "    hist_loss_valid.append(loss_valid)\n",
    "\n",
    "    hist_acc_train.append(acc_train.cpu())\n",
    "    hist_acc_valid.append(acc_valid.cpu())\n",
    "\n",
    "    hist_f1_train.append(f1_train.cpu())\n",
    "    hist_f1_valid.append(f1_valid.cpu())\n",
    "\n",
    "    print(f\"Loss_valid: {loss_valid:.4}, Accuracy_valid: {(acc_valid * 100):.4}%, F1_valid: {(f1_valid * 100):.4}%\")"
   ],
   "id": "73fa2768a145599b",
   "outputs": [
    {
     "name": "stderr",
     "output_type": "stream",
     "text": [
      "Epoch: 0: 100%|██████████| 3/3 [00:00<00:00, 46.25batch/s, accuracy=20.79%, f1=20.79%, loss=1.42]\n"
     ]
    },
    {
     "name": "stdout",
     "output_type": "stream",
     "text": [
      "Loss_valid: 1.415, Accuracy_valid: 19.0%, F1_valid: 19.0%\n"
     ]
    },
    {
     "name": "stderr",
     "output_type": "stream",
     "text": [
      "Epoch: 1: 100%|██████████| 3/3 [00:00<00:00, 28.42batch/s, accuracy=20.57%, f1=20.57%, loss=1.41]\n"
     ]
    },
    {
     "name": "stdout",
     "output_type": "stream",
     "text": [
      "Loss_valid: 1.409, Accuracy_valid: 20.17%, F1_valid: 20.17%\n"
     ]
    },
    {
     "name": "stderr",
     "output_type": "stream",
     "text": [
      "Epoch: 2: 100%|██████████| 3/3 [00:00<00:00, 42.25batch/s, accuracy=21.64%, f1=21.64%, loss=1.41]\n"
     ]
    },
    {
     "name": "stdout",
     "output_type": "stream",
     "text": [
      "Loss_valid: 1.401, Accuracy_valid: 22.0%, F1_valid: 22.0%\n"
     ]
    },
    {
     "name": "stderr",
     "output_type": "stream",
     "text": [
      "Epoch: 3: 100%|██████████| 3/3 [00:00<00:00, 46.15batch/s, accuracy=23.0%, f1=23.0%, loss=1.4]\n"
     ]
    },
    {
     "name": "stdout",
     "output_type": "stream",
     "text": [
      "Loss_valid: 1.393, Accuracy_valid: 23.5%, F1_valid: 23.5%\n"
     ]
    },
    {
     "name": "stderr",
     "output_type": "stream",
     "text": [
      "Epoch: 4: 100%|██████████| 3/3 [00:00<00:00, 45.46batch/s, accuracy=25.5%, f1=25.5%, loss=1.39]\n"
     ]
    },
    {
     "name": "stdout",
     "output_type": "stream",
     "text": [
      "Loss_valid: 1.387, Accuracy_valid: 25.67%, F1_valid: 25.67%\n"
     ]
    },
    {
     "name": "stderr",
     "output_type": "stream",
     "text": [
      "Epoch: 5: 100%|██████████| 3/3 [00:00<00:00, 38.96batch/s, accuracy=28.21%, f1=28.21%, loss=1.38]\n"
     ]
    },
    {
     "name": "stdout",
     "output_type": "stream",
     "text": [
      "Loss_valid: 1.38, Accuracy_valid: 28.67%, F1_valid: 28.67%\n"
     ]
    },
    {
     "name": "stderr",
     "output_type": "stream",
     "text": [
      "Epoch: 6: 100%|██████████| 3/3 [00:00<00:00, 36.36batch/s, accuracy=30.29%, f1=30.29%, loss=1.38]\n"
     ]
    },
    {
     "name": "stdout",
     "output_type": "stream",
     "text": [
      "Loss_valid: 1.375, Accuracy_valid: 30.33%, F1_valid: 30.33%\n"
     ]
    },
    {
     "name": "stderr",
     "output_type": "stream",
     "text": [
      "Epoch: 7: 100%|██████████| 3/3 [00:00<00:00, 37.73batch/s, accuracy=32.29%, f1=32.29%, loss=1.37]\n"
     ]
    },
    {
     "name": "stdout",
     "output_type": "stream",
     "text": [
      "Loss_valid: 1.37, Accuracy_valid: 30.67%, F1_valid: 30.67%\n"
     ]
    },
    {
     "name": "stderr",
     "output_type": "stream",
     "text": [
      "Epoch: 8: 100%|██████████| 3/3 [00:00<00:00, 50.41batch/s, accuracy=34.57%, f1=34.57%, loss=1.37]\n"
     ]
    },
    {
     "name": "stdout",
     "output_type": "stream",
     "text": [
      "Loss_valid: 1.365, Accuracy_valid: 32.5%, F1_valid: 32.5%\n"
     ]
    },
    {
     "name": "stderr",
     "output_type": "stream",
     "text": [
      "Epoch: 9: 100%|██████████| 3/3 [00:00<00:00, 39.19batch/s, accuracy=36.21%, f1=36.21%, loss=1.36]\n"
     ]
    },
    {
     "name": "stdout",
     "output_type": "stream",
     "text": [
      "Loss_valid: 1.36, Accuracy_valid: 35.17%, F1_valid: 35.17%\n"
     ]
    },
    {
     "name": "stderr",
     "output_type": "stream",
     "text": [
      "Epoch: 10: 100%|██████████| 3/3 [00:00<00:00, 40.81batch/s, accuracy=36.36%, f1=36.36%, loss=1.36]\n"
     ]
    },
    {
     "name": "stdout",
     "output_type": "stream",
     "text": [
      "Loss_valid: 1.354, Accuracy_valid: 36.5%, F1_valid: 36.5%\n"
     ]
    },
    {
     "name": "stderr",
     "output_type": "stream",
     "text": [
      "Epoch: 11: 100%|██████████| 3/3 [00:00<00:00, 41.30batch/s, accuracy=37.07%, f1=37.07%, loss=1.35]\n"
     ]
    },
    {
     "name": "stdout",
     "output_type": "stream",
     "text": [
      "Loss_valid: 1.348, Accuracy_valid: 37.17%, F1_valid: 37.17%\n"
     ]
    },
    {
     "name": "stderr",
     "output_type": "stream",
     "text": [
      "Epoch: 12: 100%|██████████| 3/3 [00:00<00:00, 45.09batch/s, accuracy=39.14%, f1=39.14%, loss=1.34]"
     ]
    },
    {
     "name": "stdout",
     "output_type": "stream",
     "text": [
      "Loss_valid: 1.342, Accuracy_valid: 39.83%, F1_valid: 39.83%"
     ]
    },
    {
     "name": "stderr",
     "output_type": "stream",
     "text": [
      "\n"
     ]
    },
    {
     "name": "stdout",
     "output_type": "stream",
     "text": [
      "\n"
     ]
    },
    {
     "name": "stderr",
     "output_type": "stream",
     "text": [
      "Epoch: 13: 100%|██████████| 3/3 [00:00<00:00, 52.16batch/s, accuracy=41.36%, f1=41.36%, loss=1.33]\n"
     ]
    },
    {
     "name": "stdout",
     "output_type": "stream",
     "text": [
      "Loss_valid: 1.334, Accuracy_valid: 40.67%, F1_valid: 40.67%\n"
     ]
    },
    {
     "name": "stderr",
     "output_type": "stream",
     "text": [
      "Epoch: 14: 100%|██████████| 3/3 [00:00<00:00, 43.14batch/s, accuracy=43.36%, f1=43.36%, loss=1.33]\n"
     ]
    },
    {
     "name": "stdout",
     "output_type": "stream",
     "text": [
      "Loss_valid: 1.325, Accuracy_valid: 42.67%, F1_valid: 42.67%\n"
     ]
    },
    {
     "name": "stderr",
     "output_type": "stream",
     "text": [
      "Epoch: 15: 100%|██████████| 3/3 [00:00<00:00, 47.95batch/s, accuracy=44.5%, f1=44.5%, loss=1.32]"
     ]
    },
    {
     "name": "stdout",
     "output_type": "stream",
     "text": [
      "Loss_valid: 1.316, Accuracy_valid: 42.67%, F1_valid: 42.67%"
     ]
    },
    {
     "name": "stderr",
     "output_type": "stream",
     "text": [
      "\n"
     ]
    },
    {
     "name": "stdout",
     "output_type": "stream",
     "text": [
      "\n"
     ]
    },
    {
     "name": "stderr",
     "output_type": "stream",
     "text": [
      "Epoch: 16: 100%|██████████| 3/3 [00:00<00:00, 93.76batch/s, accuracy=45.93%, f1=45.93%, loss=1.31]\n"
     ]
    },
    {
     "name": "stdout",
     "output_type": "stream",
     "text": [
      "Loss_valid: 1.305, Accuracy_valid: 44.5%, F1_valid: 44.5%\n"
     ]
    },
    {
     "name": "stderr",
     "output_type": "stream",
     "text": [
      "Epoch: 17: 100%|██████████| 3/3 [00:00<00:00, 82.76batch/s, accuracy=46.07%, f1=46.07%, loss=1.3]"
     ]
    },
    {
     "name": "stdout",
     "output_type": "stream",
     "text": [
      "Loss_valid: 1.292, Accuracy_valid: 45.5%, F1_valid: 45.5%\n"
     ]
    },
    {
     "name": "stderr",
     "output_type": "stream",
     "text": [
      "\n",
      "Epoch: 18: 100%|██████████| 3/3 [00:00<00:00, 85.71batch/s, accuracy=47.64%, f1=47.64%, loss=1.28]\n"
     ]
    },
    {
     "name": "stdout",
     "output_type": "stream",
     "text": [
      "Loss_valid: 1.278, Accuracy_valid: 46.67%, F1_valid: 46.67%\n"
     ]
    },
    {
     "name": "stderr",
     "output_type": "stream",
     "text": [
      "Epoch: 19: 100%|██████████| 3/3 [00:00<00:00, 89.52batch/s, accuracy=48.43%, f1=48.43%, loss=1.27]\n"
     ]
    },
    {
     "name": "stdout",
     "output_type": "stream",
     "text": [
      "Loss_valid: 1.263, Accuracy_valid: 47.33%, F1_valid: 47.33%\n"
     ]
    },
    {
     "name": "stderr",
     "output_type": "stream",
     "text": [
      "Epoch: 20: 100%|██████████| 3/3 [00:00<00:00, 96.75batch/s, accuracy=49.57%, f1=49.57%, loss=1.25]\n"
     ]
    },
    {
     "name": "stdout",
     "output_type": "stream",
     "text": [
      "Loss_valid: 1.245, Accuracy_valid: 48.67%, F1_valid: 48.67%\n"
     ]
    },
    {
     "name": "stderr",
     "output_type": "stream",
     "text": [
      "Epoch: 21: 100%|██████████| 3/3 [00:00<00:00, 101.55batch/s, accuracy=50.64%, f1=50.64%, loss=1.23]\n"
     ]
    },
    {
     "name": "stdout",
     "output_type": "stream",
     "text": [
      "Loss_valid: 1.226, Accuracy_valid: 49.33%, F1_valid: 49.33%\n"
     ]
    },
    {
     "name": "stderr",
     "output_type": "stream",
     "text": [
      "Epoch: 22: 100%|██████████| 3/3 [00:00<00:00, 85.68batch/s, accuracy=51.43%, f1=51.43%, loss=1.21]\n"
     ]
    },
    {
     "name": "stdout",
     "output_type": "stream",
     "text": [
      "Loss_valid: 1.205, Accuracy_valid: 50.17%, F1_valid: 50.17%\n"
     ]
    },
    {
     "name": "stderr",
     "output_type": "stream",
     "text": [
      "Epoch: 23: 100%|██████████| 3/3 [00:00<00:00, 86.93batch/s, accuracy=52.0%, f1=52.0%, loss=1.19]\n"
     ]
    },
    {
     "name": "stdout",
     "output_type": "stream",
     "text": [
      "Loss_valid: 1.181, Accuracy_valid: 50.5%, F1_valid: 50.5%\n"
     ]
    },
    {
     "name": "stderr",
     "output_type": "stream",
     "text": [
      "Epoch: 24: 100%|██████████| 3/3 [00:00<00:00, 96.77batch/s, accuracy=52.36%, f1=52.36%, loss=1.17]\n"
     ]
    },
    {
     "name": "stdout",
     "output_type": "stream",
     "text": [
      "Loss_valid: 1.156, Accuracy_valid: 51.67%, F1_valid: 51.67%\n"
     ]
    },
    {
     "name": "stderr",
     "output_type": "stream",
     "text": [
      "Epoch: 25: 100%|██████████| 3/3 [00:00<00:00, 75.99batch/s, accuracy=53.14%, f1=53.14%, loss=1.14]\n"
     ]
    },
    {
     "name": "stdout",
     "output_type": "stream",
     "text": [
      "Loss_valid: 1.128, Accuracy_valid: 52.83%, F1_valid: 52.83%\n"
     ]
    },
    {
     "name": "stderr",
     "output_type": "stream",
     "text": [
      "Epoch: 26: 100%|██████████| 3/3 [00:00<00:00, 90.89batch/s, accuracy=53.64%, f1=53.64%, loss=1.12]\n"
     ]
    },
    {
     "name": "stdout",
     "output_type": "stream",
     "text": [
      "Loss_valid: 1.1, Accuracy_valid: 53.0%, F1_valid: 53.0%\n"
     ]
    },
    {
     "name": "stderr",
     "output_type": "stream",
     "text": [
      "Epoch: 27: 100%|██████████| 3/3 [00:00<00:00, 100.01batch/s, accuracy=54.64%, f1=54.64%, loss=1.08]\n"
     ]
    },
    {
     "name": "stdout",
     "output_type": "stream",
     "text": [
      "Loss_valid: 1.069, Accuracy_valid: 53.33%, F1_valid: 53.33%\n"
     ]
    },
    {
     "name": "stderr",
     "output_type": "stream",
     "text": [
      "Epoch: 28: 100%|██████████| 3/3 [00:00<00:00, 88.15batch/s, accuracy=55.07%, f1=55.07%, loss=1.05]\n"
     ]
    },
    {
     "name": "stdout",
     "output_type": "stream",
     "text": [
      "Loss_valid: 1.037, Accuracy_valid: 54.0%, F1_valid: 54.0%\n"
     ]
    },
    {
     "name": "stderr",
     "output_type": "stream",
     "text": [
      "Epoch: 29: 100%|██████████| 3/3 [00:00<00:00, 85.72batch/s, accuracy=55.79%, f1=55.79%, loss=1.01]\n"
     ]
    },
    {
     "name": "stdout",
     "output_type": "stream",
     "text": [
      "Loss_valid: 1.005, Accuracy_valid: 54.83%, F1_valid: 54.83%\n"
     ]
    },
    {
     "name": "stderr",
     "output_type": "stream",
     "text": [
      "Epoch: 30: 100%|██████████| 3/3 [00:00<00:00, 85.70batch/s, accuracy=56.36%, f1=56.36%, loss=0.996]\n"
     ]
    },
    {
     "name": "stdout",
     "output_type": "stream",
     "text": [
      "Loss_valid: 0.9727, Accuracy_valid: 56.0%, F1_valid: 56.0%\n"
     ]
    },
    {
     "name": "stderr",
     "output_type": "stream",
     "text": [
      "Epoch: 31: 100%|██████████| 3/3 [00:00<00:00, 93.75batch/s, accuracy=57.0%, f1=57.0%, loss=0.962]\n"
     ]
    },
    {
     "name": "stdout",
     "output_type": "stream",
     "text": [
      "Loss_valid: 0.9405, Accuracy_valid: 57.83%, F1_valid: 57.83%\n"
     ]
    },
    {
     "name": "stderr",
     "output_type": "stream",
     "text": [
      "Epoch: 32: 100%|██████████| 3/3 [00:00<00:00, 95.20batch/s, accuracy=58.29%, f1=58.29%, loss=0.93]\n"
     ]
    },
    {
     "name": "stdout",
     "output_type": "stream",
     "text": [
      "Loss_valid: 0.9088, Accuracy_valid: 60.17%, F1_valid: 60.17%\n"
     ]
    },
    {
     "name": "stderr",
     "output_type": "stream",
     "text": [
      "Epoch: 33: 100%|██████████| 3/3 [00:00<00:00, 93.74batch/s, accuracy=59.86%, f1=59.86%, loss=0.895]\n"
     ]
    },
    {
     "name": "stdout",
     "output_type": "stream",
     "text": [
      "Loss_valid: 0.8778, Accuracy_valid: 62.0%, F1_valid: 62.0%\n"
     ]
    },
    {
     "name": "stderr",
     "output_type": "stream",
     "text": [
      "Epoch: 34: 100%|██████████| 3/3 [00:00<00:00, 89.50batch/s, accuracy=61.79%, f1=61.79%, loss=0.861]\n"
     ]
    },
    {
     "name": "stdout",
     "output_type": "stream",
     "text": [
      "Loss_valid: 0.8478, Accuracy_valid: 64.67%, F1_valid: 64.67%\n"
     ]
    },
    {
     "name": "stderr",
     "output_type": "stream",
     "text": [
      "Epoch: 35: 100%|██████████| 3/3 [00:00<00:00, 93.75batch/s, accuracy=63.79%, f1=63.79%, loss=0.842]\n"
     ]
    },
    {
     "name": "stdout",
     "output_type": "stream",
     "text": [
      "Loss_valid: 0.8189, Accuracy_valid: 66.5%, F1_valid: 66.5%\n"
     ]
    },
    {
     "name": "stderr",
     "output_type": "stream",
     "text": [
      "Epoch: 36: 100%|██████████| 3/3 [00:00<00:00, 79.96batch/s, accuracy=66.14%, f1=66.14%, loss=0.802]\n"
     ]
    },
    {
     "name": "stdout",
     "output_type": "stream",
     "text": [
      "Loss_valid: 0.7913, Accuracy_valid: 70.33%, F1_valid: 70.33%\n"
     ]
    },
    {
     "name": "stderr",
     "output_type": "stream",
     "text": [
      "Epoch: 37: 100%|██████████| 3/3 [00:00<00:00, 93.64batch/s, accuracy=68.5%, f1=68.5%, loss=0.768]\n"
     ]
    },
    {
     "name": "stdout",
     "output_type": "stream",
     "text": [
      "Loss_valid: 0.765, Accuracy_valid: 73.33%, F1_valid: 73.33%\n"
     ]
    },
    {
     "name": "stderr",
     "output_type": "stream",
     "text": [
      "Epoch: 38: 100%|██████████| 3/3 [00:00<00:00, 72.26batch/s, accuracy=71.36%, f1=71.36%, loss=0.748]\n"
     ]
    },
    {
     "name": "stdout",
     "output_type": "stream",
     "text": [
      "Loss_valid: 0.7399, Accuracy_valid: 74.67%, F1_valid: 74.67%\n"
     ]
    },
    {
     "name": "stderr",
     "output_type": "stream",
     "text": [
      "Epoch: 39: 100%|██████████| 3/3 [00:00<00:00, 96.77batch/s, accuracy=73.64%, f1=73.64%, loss=0.723]\n"
     ]
    },
    {
     "name": "stdout",
     "output_type": "stream",
     "text": [
      "Loss_valid: 0.7159, Accuracy_valid: 77.33%, F1_valid: 77.33%\n"
     ]
    },
    {
     "name": "stderr",
     "output_type": "stream",
     "text": [
      "Epoch: 40: 100%|██████████| 3/3 [00:00<00:00, 74.96batch/s, accuracy=75.93%, f1=75.93%, loss=0.706]\n"
     ]
    },
    {
     "name": "stdout",
     "output_type": "stream",
     "text": [
      "Loss_valid: 0.6932, Accuracy_valid: 79.33%, F1_valid: 79.33%\n"
     ]
    },
    {
     "name": "stderr",
     "output_type": "stream",
     "text": [
      "Epoch: 41: 100%|██████████| 3/3 [00:00<00:00, 93.67batch/s, accuracy=78.29%, f1=78.29%, loss=0.677]\n"
     ]
    },
    {
     "name": "stdout",
     "output_type": "stream",
     "text": [
      "Loss_valid: 0.6717, Accuracy_valid: 81.83%, F1_valid: 81.83%\n"
     ]
    },
    {
     "name": "stderr",
     "output_type": "stream",
     "text": [
      "Epoch: 42: 100%|██████████| 3/3 [00:00<00:00, 81.08batch/s, accuracy=80.79%, f1=80.79%, loss=0.657]\n"
     ]
    },
    {
     "name": "stdout",
     "output_type": "stream",
     "text": [
      "Loss_valid: 0.6512, Accuracy_valid: 83.33%, F1_valid: 83.33%\n"
     ]
    },
    {
     "name": "stderr",
     "output_type": "stream",
     "text": [
      "Epoch: 43: 100%|██████████| 3/3 [00:00<00:00, 54.04batch/s, accuracy=82.21%, f1=82.21%, loss=0.643]\n"
     ]
    },
    {
     "name": "stdout",
     "output_type": "stream",
     "text": [
      "Loss_valid: 0.6314, Accuracy_valid: 84.67%, F1_valid: 84.67%\n"
     ]
    },
    {
     "name": "stderr",
     "output_type": "stream",
     "text": [
      "Epoch: 44: 100%|██████████| 3/3 [00:00<00:00, 75.00batch/s, accuracy=84.36%, f1=84.36%, loss=0.61]\n"
     ]
    },
    {
     "name": "stdout",
     "output_type": "stream",
     "text": [
      "Loss_valid: 0.6124, Accuracy_valid: 85.0%, F1_valid: 85.0%\n"
     ]
    },
    {
     "name": "stderr",
     "output_type": "stream",
     "text": [
      "Epoch: 45: 100%|██████████| 3/3 [00:00<00:00, 85.71batch/s, accuracy=85.07%, f1=85.07%, loss=0.598]\n"
     ]
    },
    {
     "name": "stdout",
     "output_type": "stream",
     "text": [
      "Loss_valid: 0.5942, Accuracy_valid: 85.67%, F1_valid: 85.67%\n"
     ]
    },
    {
     "name": "stderr",
     "output_type": "stream",
     "text": [
      "Epoch: 46: 100%|██████████| 3/3 [00:00<00:00, 81.06batch/s, accuracy=85.64%, f1=85.64%, loss=0.588]\n"
     ]
    },
    {
     "name": "stdout",
     "output_type": "stream",
     "text": [
      "Loss_valid: 0.5769, Accuracy_valid: 86.0%, F1_valid: 86.0%\n"
     ]
    },
    {
     "name": "stderr",
     "output_type": "stream",
     "text": [
      "Epoch: 47: 100%|██████████| 3/3 [00:00<00:00, 81.08batch/s, accuracy=86.14%, f1=86.14%, loss=0.564]"
     ]
    },
    {
     "name": "stdout",
     "output_type": "stream",
     "text": [
      "Loss_valid: 0.5606, Accuracy_valid: 86.67%, F1_valid: 86.67%"
     ]
    },
    {
     "name": "stderr",
     "output_type": "stream",
     "text": [
      "\n"
     ]
    },
    {
     "name": "stdout",
     "output_type": "stream",
     "text": [
      "\n"
     ]
    },
    {
     "name": "stderr",
     "output_type": "stream",
     "text": [
      "Epoch: 48: 100%|██████████| 3/3 [00:00<00:00, 60.59batch/s, accuracy=87.36%, f1=87.36%, loss=0.544]\n"
     ]
    },
    {
     "name": "stdout",
     "output_type": "stream",
     "text": [
      "Loss_valid: 0.5448, Accuracy_valid: 87.0%, F1_valid: 87.0%\n"
     ]
    },
    {
     "name": "stderr",
     "output_type": "stream",
     "text": [
      "Epoch: 49: 100%|██████████| 3/3 [00:00<00:00, 43.13batch/s, accuracy=88.07%, f1=88.07%, loss=0.533]\n"
     ]
    },
    {
     "name": "stdout",
     "output_type": "stream",
     "text": [
      "Loss_valid: 0.5299, Accuracy_valid: 87.17%, F1_valid: 87.17%\n"
     ]
    },
    {
     "name": "stderr",
     "output_type": "stream",
     "text": [
      "Epoch: 50: 100%|██████████| 3/3 [00:00<00:00, 55.01batch/s, accuracy=89.0%, f1=89.0%, loss=0.51]\n"
     ]
    },
    {
     "name": "stdout",
     "output_type": "stream",
     "text": [
      "Loss_valid: 0.5156, Accuracy_valid: 88.17%, F1_valid: 88.17%\n"
     ]
    },
    {
     "name": "stderr",
     "output_type": "stream",
     "text": [
      "Epoch: 51: 100%|██████████| 3/3 [00:00<00:00, 83.33batch/s, accuracy=89.5%, f1=89.5%, loss=0.503]\n"
     ]
    },
    {
     "name": "stdout",
     "output_type": "stream",
     "text": [
      "Loss_valid: 0.5017, Accuracy_valid: 88.67%, F1_valid: 88.67%\n"
     ]
    },
    {
     "name": "stderr",
     "output_type": "stream",
     "text": [
      "Epoch: 52: 100%|██████████| 3/3 [00:00<00:00, 92.23batch/s, accuracy=89.93%, f1=89.93%, loss=0.488]"
     ]
    },
    {
     "name": "stdout",
     "output_type": "stream",
     "text": [
      "Loss_valid: 0.4886, Accuracy_valid: 89.0%, F1_valid: 89.0%\n"
     ]
    },
    {
     "name": "stderr",
     "output_type": "stream",
     "text": [
      "\n",
      "Epoch: 53: 100%|██████████| 3/3 [00:00<00:00, 93.75batch/s, accuracy=90.29%, f1=90.29%, loss=0.473]\n"
     ]
    },
    {
     "name": "stdout",
     "output_type": "stream",
     "text": [
      "Loss_valid: 0.476, Accuracy_valid: 89.17%, F1_valid: 89.17%\n"
     ]
    },
    {
     "name": "stderr",
     "output_type": "stream",
     "text": [
      "Epoch: 54: 100%|██████████| 3/3 [00:00<00:00, 95.21batch/s, accuracy=90.43%, f1=90.43%, loss=0.463]\n"
     ]
    },
    {
     "name": "stdout",
     "output_type": "stream",
     "text": [
      "Loss_valid: 0.4639, Accuracy_valid: 89.17%, F1_valid: 89.17%\n"
     ]
    },
    {
     "name": "stderr",
     "output_type": "stream",
     "text": [
      "Epoch: 55: 100%|██████████| 3/3 [00:00<00:00, 88.23batch/s, accuracy=90.79%, f1=90.79%, loss=0.448]\n"
     ]
    },
    {
     "name": "stdout",
     "output_type": "stream",
     "text": [
      "Loss_valid: 0.4523, Accuracy_valid: 90.17%, F1_valid: 90.17%\n"
     ]
    },
    {
     "name": "stderr",
     "output_type": "stream",
     "text": [
      "Epoch: 56: 100%|██████████| 3/3 [00:00<00:00, 67.36batch/s, accuracy=91.14%, f1=91.14%, loss=0.436]\n"
     ]
    },
    {
     "name": "stdout",
     "output_type": "stream",
     "text": [
      "Loss_valid: 0.4413, Accuracy_valid: 90.5%, F1_valid: 90.5%\n"
     ]
    },
    {
     "name": "stderr",
     "output_type": "stream",
     "text": [
      "Epoch: 57: 100%|██████████| 3/3 [00:00<00:00, 88.22batch/s, accuracy=91.43%, f1=91.43%, loss=0.429]\n"
     ]
    },
    {
     "name": "stdout",
     "output_type": "stream",
     "text": [
      "Loss_valid: 0.4304, Accuracy_valid: 90.67%, F1_valid: 90.67%\n"
     ]
    },
    {
     "name": "stderr",
     "output_type": "stream",
     "text": [
      "Epoch: 58: 100%|██████████| 3/3 [00:00<00:00, 96.77batch/s, accuracy=91.64%, f1=91.64%, loss=0.416]\n"
     ]
    },
    {
     "name": "stdout",
     "output_type": "stream",
     "text": [
      "Loss_valid: 0.42, Accuracy_valid: 90.17%, F1_valid: 90.17%\n"
     ]
    },
    {
     "name": "stderr",
     "output_type": "stream",
     "text": [
      "Epoch: 59: 100%|██████████| 3/3 [00:00<00:00, 74.99batch/s, accuracy=91.79%, f1=91.79%, loss=0.403]\n"
     ]
    },
    {
     "name": "stdout",
     "output_type": "stream",
     "text": [
      "Loss_valid: 0.4102, Accuracy_valid: 90.33%, F1_valid: 90.33%\n"
     ]
    },
    {
     "name": "stderr",
     "output_type": "stream",
     "text": [
      "Epoch: 60: 100%|██████████| 3/3 [00:00<00:00, 88.23batch/s, accuracy=91.71%, f1=91.71%, loss=0.399]\n"
     ]
    },
    {
     "name": "stdout",
     "output_type": "stream",
     "text": [
      "Loss_valid: 0.4009, Accuracy_valid: 90.33%, F1_valid: 90.33%\n"
     ]
    },
    {
     "name": "stderr",
     "output_type": "stream",
     "text": [
      "Epoch: 61: 100%|██████████| 3/3 [00:00<00:00, 89.44batch/s, accuracy=92.0%, f1=92.0%, loss=0.383]\n"
     ]
    },
    {
     "name": "stdout",
     "output_type": "stream",
     "text": [
      "Loss_valid: 0.392, Accuracy_valid: 90.17%, F1_valid: 90.17%\n"
     ]
    },
    {
     "name": "stderr",
     "output_type": "stream",
     "text": [
      "Epoch: 62: 100%|██████████| 3/3 [00:00<00:00, 85.73batch/s, accuracy=92.14%, f1=92.14%, loss=0.372]\n"
     ]
    },
    {
     "name": "stdout",
     "output_type": "stream",
     "text": [
      "Loss_valid: 0.3834, Accuracy_valid: 90.83%, F1_valid: 90.83%\n"
     ]
    },
    {
     "name": "stderr",
     "output_type": "stream",
     "text": [
      "Epoch: 63: 100%|██████████| 3/3 [00:00<00:00, 98.32batch/s, accuracy=92.71%, f1=92.71%, loss=0.37]\n"
     ]
    },
    {
     "name": "stdout",
     "output_type": "stream",
     "text": [
      "Loss_valid: 0.3751, Accuracy_valid: 91.17%, F1_valid: 91.17%\n"
     ]
    },
    {
     "name": "stderr",
     "output_type": "stream",
     "text": [
      "Epoch: 64: 100%|██████████| 3/3 [00:00<00:00, 88.24batch/s, accuracy=93.07%, f1=93.07%, loss=0.363]\n"
     ]
    },
    {
     "name": "stdout",
     "output_type": "stream",
     "text": [
      "Loss_valid: 0.367, Accuracy_valid: 91.17%, F1_valid: 91.17%\n"
     ]
    },
    {
     "name": "stderr",
     "output_type": "stream",
     "text": [
      "Epoch: 65: 100%|██████████| 3/3 [00:00<00:00, 89.52batch/s, accuracy=93.0%, f1=93.0%, loss=0.346]\n"
     ]
    },
    {
     "name": "stdout",
     "output_type": "stream",
     "text": [
      "Loss_valid: 0.3593, Accuracy_valid: 91.17%, F1_valid: 91.17%\n"
     ]
    },
    {
     "name": "stderr",
     "output_type": "stream",
     "text": [
      "Epoch: 66: 100%|██████████| 3/3 [00:00<00:00, 96.77batch/s, accuracy=93.36%, f1=93.36%, loss=0.338]\n"
     ]
    },
    {
     "name": "stdout",
     "output_type": "stream",
     "text": [
      "Loss_valid: 0.3521, Accuracy_valid: 91.33%, F1_valid: 91.33%\n"
     ]
    },
    {
     "name": "stderr",
     "output_type": "stream",
     "text": [
      "Epoch: 67: 100%|██████████| 3/3 [00:00<00:00, 86.94batch/s, accuracy=93.57%, f1=93.57%, loss=0.335]\n"
     ]
    },
    {
     "name": "stdout",
     "output_type": "stream",
     "text": [
      "Loss_valid: 0.3452, Accuracy_valid: 91.67%, F1_valid: 91.67%\n"
     ]
    },
    {
     "name": "stderr",
     "output_type": "stream",
     "text": [
      "Epoch: 68: 100%|██████████| 3/3 [00:00<00:00, 88.24batch/s, accuracy=93.71%, f1=93.71%, loss=0.321]\n"
     ]
    },
    {
     "name": "stdout",
     "output_type": "stream",
     "text": [
      "Loss_valid: 0.3387, Accuracy_valid: 91.67%, F1_valid: 91.67%\n"
     ]
    },
    {
     "name": "stderr",
     "output_type": "stream",
     "text": [
      "Epoch: 69: 100%|██████████| 3/3 [00:00<00:00, 98.33batch/s, accuracy=93.79%, f1=93.79%, loss=0.319]\n"
     ]
    },
    {
     "name": "stdout",
     "output_type": "stream",
     "text": [
      "Loss_valid: 0.3321, Accuracy_valid: 91.33%, F1_valid: 91.33%\n"
     ]
    },
    {
     "name": "stderr",
     "output_type": "stream",
     "text": [
      "Epoch: 70: 100%|██████████| 3/3 [00:00<00:00, 85.72batch/s, accuracy=94.07%, f1=94.07%, loss=0.309]\n"
     ]
    },
    {
     "name": "stdout",
     "output_type": "stream",
     "text": [
      "Loss_valid: 0.3259, Accuracy_valid: 91.17%, F1_valid: 91.17%\n"
     ]
    },
    {
     "name": "stderr",
     "output_type": "stream",
     "text": [
      "Epoch: 71: 100%|██████████| 3/3 [00:00<00:00, 103.45batch/s, accuracy=94.07%, f1=94.07%, loss=0.301]\n"
     ]
    },
    {
     "name": "stdout",
     "output_type": "stream",
     "text": [
      "Loss_valid: 0.3201, Accuracy_valid: 91.67%, F1_valid: 91.67%\n"
     ]
    },
    {
     "name": "stderr",
     "output_type": "stream",
     "text": [
      "Epoch: 72: 100%|██████████| 3/3 [00:00<00:00, 83.33batch/s, accuracy=94.29%, f1=94.29%, loss=0.297]\n"
     ]
    },
    {
     "name": "stdout",
     "output_type": "stream",
     "text": [
      "Loss_valid: 0.3145, Accuracy_valid: 92.17%, F1_valid: 92.17%\n"
     ]
    },
    {
     "name": "stderr",
     "output_type": "stream",
     "text": [
      "Epoch: 73: 100%|██████████| 3/3 [00:00<00:00, 93.75batch/s, accuracy=94.21%, f1=94.21%, loss=0.288]\n"
     ]
    },
    {
     "name": "stdout",
     "output_type": "stream",
     "text": [
      "Loss_valid: 0.3091, Accuracy_valid: 92.17%, F1_valid: 92.17%\n"
     ]
    },
    {
     "name": "stderr",
     "output_type": "stream",
     "text": [
      "Epoch: 74: 100%|██████████| 3/3 [00:00<00:00, 90.90batch/s, accuracy=94.43%, f1=94.43%, loss=0.284]\n"
     ]
    },
    {
     "name": "stdout",
     "output_type": "stream",
     "text": [
      "Loss_valid: 0.3037, Accuracy_valid: 92.0%, F1_valid: 92.0%\n"
     ]
    },
    {
     "name": "stderr",
     "output_type": "stream",
     "text": [
      "Epoch: 75: 100%|██████████| 3/3 [00:00<00:00, 75.00batch/s, accuracy=94.64%, f1=94.64%, loss=0.282]\n"
     ]
    },
    {
     "name": "stdout",
     "output_type": "stream",
     "text": [
      "Loss_valid: 0.2986, Accuracy_valid: 92.0%, F1_valid: 92.0%\n"
     ]
    },
    {
     "name": "stderr",
     "output_type": "stream",
     "text": [
      "Epoch: 76: 100%|██████████| 3/3 [00:00<00:00, 70.57batch/s, accuracy=94.79%, f1=94.79%, loss=0.273]\n"
     ]
    },
    {
     "name": "stdout",
     "output_type": "stream",
     "text": [
      "Loss_valid: 0.2939, Accuracy_valid: 92.33%, F1_valid: 92.33%\n"
     ]
    },
    {
     "name": "stderr",
     "output_type": "stream",
     "text": [
      "Epoch: 77: 100%|██████████| 3/3 [00:00<00:00, 69.77batch/s, accuracy=95.14%, f1=95.14%, loss=0.27]"
     ]
    },
    {
     "name": "stdout",
     "output_type": "stream",
     "text": [
      "Loss_valid: 0.2896, Accuracy_valid: 92.67%, F1_valid: 92.67%\n"
     ]
    },
    {
     "name": "stderr",
     "output_type": "stream",
     "text": [
      "\n",
      "Epoch: 78: 100%|██████████| 3/3 [00:00<00:00, 92.27batch/s, accuracy=95.14%, f1=95.14%, loss=0.265]\n"
     ]
    },
    {
     "name": "stdout",
     "output_type": "stream",
     "text": [
      "Loss_valid: 0.2856, Accuracy_valid: 92.33%, F1_valid: 92.33%\n"
     ]
    },
    {
     "name": "stderr",
     "output_type": "stream",
     "text": [
      "Epoch: 79: 100%|██████████| 3/3 [00:00<00:00, 100.01batch/s, accuracy=95.36%, f1=95.36%, loss=0.267]\n"
     ]
    },
    {
     "name": "stdout",
     "output_type": "stream",
     "text": [
      "Loss_valid: 0.2818, Accuracy_valid: 92.0%, F1_valid: 92.0%\n"
     ]
    },
    {
     "name": "stderr",
     "output_type": "stream",
     "text": [
      "Epoch: 80: 100%|██████████| 3/3 [00:00<00:00, 98.32batch/s, accuracy=95.5%, f1=95.5%, loss=0.251]\n"
     ]
    },
    {
     "name": "stdout",
     "output_type": "stream",
     "text": [
      "Loss_valid: 0.2778, Accuracy_valid: 92.17%, F1_valid: 92.17%\n"
     ]
    },
    {
     "name": "stderr",
     "output_type": "stream",
     "text": [
      "Epoch: 81: 100%|██████████| 3/3 [00:00<00:00, 86.75batch/s, accuracy=95.57%, f1=95.57%, loss=0.251]\n"
     ]
    },
    {
     "name": "stdout",
     "output_type": "stream",
     "text": [
      "Loss_valid: 0.2738, Accuracy_valid: 92.33%, F1_valid: 92.33%\n"
     ]
    },
    {
     "name": "stderr",
     "output_type": "stream",
     "text": [
      "Epoch: 82: 100%|██████████| 3/3 [00:00<00:00, 95.94batch/s, accuracy=95.79%, f1=95.79%, loss=0.241]\n"
     ]
    },
    {
     "name": "stdout",
     "output_type": "stream",
     "text": [
      "Loss_valid: 0.2701, Accuracy_valid: 92.33%, F1_valid: 92.33%\n"
     ]
    },
    {
     "name": "stderr",
     "output_type": "stream",
     "text": [
      "Epoch: 83: 100%|██████████| 3/3 [00:00<00:00, 90.91batch/s, accuracy=95.86%, f1=95.86%, loss=0.24]\n"
     ]
    },
    {
     "name": "stdout",
     "output_type": "stream",
     "text": [
      "Loss_valid: 0.2665, Accuracy_valid: 92.33%, F1_valid: 92.33%\n"
     ]
    },
    {
     "name": "stderr",
     "output_type": "stream",
     "text": [
      "Epoch: 84: 100%|██████████| 3/3 [00:00<00:00, 50.34batch/s, accuracy=95.86%, f1=95.86%, loss=0.235]"
     ]
    },
    {
     "name": "stdout",
     "output_type": "stream",
     "text": [
      "Loss_valid: 0.2626, Accuracy_valid: 92.0%, F1_valid: 92.0%"
     ]
    },
    {
     "name": "stderr",
     "output_type": "stream",
     "text": [
      "\n"
     ]
    },
    {
     "name": "stdout",
     "output_type": "stream",
     "text": [
      "\n"
     ]
    },
    {
     "name": "stderr",
     "output_type": "stream",
     "text": [
      "Epoch: 85: 100%|██████████| 3/3 [00:00<00:00, 16.92batch/s, accuracy=95.86%, f1=95.86%, loss=0.231]\n"
     ]
    },
    {
     "name": "stdout",
     "output_type": "stream",
     "text": [
      "Loss_valid: 0.2592, Accuracy_valid: 92.5%, F1_valid: 92.5%\n"
     ]
    },
    {
     "name": "stderr",
     "output_type": "stream",
     "text": [
      "Epoch: 86: 100%|██████████| 3/3 [00:00<00:00, 43.79batch/s, accuracy=96.0%, f1=96.0%, loss=0.225]\n"
     ]
    },
    {
     "name": "stdout",
     "output_type": "stream",
     "text": [
      "Loss_valid: 0.2563, Accuracy_valid: 92.17%, F1_valid: 92.17%\n"
     ]
    },
    {
     "name": "stderr",
     "output_type": "stream",
     "text": [
      "Epoch: 87: 100%|██████████| 3/3 [00:00<00:00, 43.68batch/s, accuracy=96.07%, f1=96.07%, loss=0.216]\n"
     ]
    },
    {
     "name": "stdout",
     "output_type": "stream",
     "text": [
      "Loss_valid: 0.2532, Accuracy_valid: 92.33%, F1_valid: 92.33%\n"
     ]
    },
    {
     "name": "stderr",
     "output_type": "stream",
     "text": [
      "Epoch: 88: 100%|██████████| 3/3 [00:00<00:00, 47.96batch/s, accuracy=96.07%, f1=96.07%, loss=0.219]"
     ]
    },
    {
     "name": "stdout",
     "output_type": "stream",
     "text": [
      "Loss_valid: 0.2503, Accuracy_valid: 92.17%, F1_valid: 92.17%\n"
     ]
    },
    {
     "name": "stderr",
     "output_type": "stream",
     "text": [
      "\n",
      "Epoch: 89: 100%|██████████| 3/3 [00:00<00:00, 56.44batch/s, accuracy=96.5%, f1=96.5%, loss=0.214]\n"
     ]
    },
    {
     "name": "stdout",
     "output_type": "stream",
     "text": [
      "Loss_valid: 0.2478, Accuracy_valid: 91.83%, F1_valid: 91.83%\n"
     ]
    },
    {
     "name": "stderr",
     "output_type": "stream",
     "text": [
      "Epoch: 90: 100%|██████████| 3/3 [00:00<00:00, 81.07batch/s, accuracy=96.71%, f1=96.71%, loss=0.211]\n"
     ]
    },
    {
     "name": "stdout",
     "output_type": "stream",
     "text": [
      "Loss_valid: 0.245, Accuracy_valid: 92.0%, F1_valid: 92.0%\n"
     ]
    },
    {
     "name": "stderr",
     "output_type": "stream",
     "text": [
      "Epoch: 91: 100%|██████████| 3/3 [00:00<00:00, 83.34batch/s, accuracy=96.5%, f1=96.5%, loss=0.217]\n"
     ]
    },
    {
     "name": "stdout",
     "output_type": "stream",
     "text": [
      "Loss_valid: 0.2423, Accuracy_valid: 91.83%, F1_valid: 91.83%\n"
     ]
    },
    {
     "name": "stderr",
     "output_type": "stream",
     "text": [
      "Epoch: 92: 100%|██████████| 3/3 [00:00<00:00, 89.51batch/s, accuracy=96.79%, f1=96.79%, loss=0.211]\n"
     ]
    },
    {
     "name": "stdout",
     "output_type": "stream",
     "text": [
      "Loss_valid: 0.2399, Accuracy_valid: 92.0%, F1_valid: 92.0%\n"
     ]
    },
    {
     "name": "stderr",
     "output_type": "stream",
     "text": [
      "Epoch: 93: 100%|██████████| 3/3 [00:00<00:00, 85.72batch/s, accuracy=96.71%, f1=96.71%, loss=0.195]\n"
     ]
    },
    {
     "name": "stdout",
     "output_type": "stream",
     "text": [
      "Loss_valid: 0.2374, Accuracy_valid: 92.0%, F1_valid: 92.0%\n"
     ]
    },
    {
     "name": "stderr",
     "output_type": "stream",
     "text": [
      "Epoch: 94: 100%|██████████| 3/3 [00:00<00:00, 92.26batch/s, accuracy=96.86%, f1=96.86%, loss=0.196]\n"
     ]
    },
    {
     "name": "stdout",
     "output_type": "stream",
     "text": [
      "Loss_valid: 0.235, Accuracy_valid: 92.17%, F1_valid: 92.17%\n"
     ]
    },
    {
     "name": "stderr",
     "output_type": "stream",
     "text": [
      "Epoch: 95: 100%|██████████| 3/3 [00:00<00:00, 93.75batch/s, accuracy=97.07%, f1=97.07%, loss=0.198]\n"
     ]
    },
    {
     "name": "stdout",
     "output_type": "stream",
     "text": [
      "Loss_valid: 0.2327, Accuracy_valid: 92.33%, F1_valid: 92.33%\n"
     ]
    },
    {
     "name": "stderr",
     "output_type": "stream",
     "text": [
      "Epoch: 96: 100%|██████████| 3/3 [00:00<00:00, 92.27batch/s, accuracy=97.0%, f1=97.0%, loss=0.188]\n"
     ]
    },
    {
     "name": "stdout",
     "output_type": "stream",
     "text": [
      "Loss_valid: 0.2305, Accuracy_valid: 92.5%, F1_valid: 92.5%\n"
     ]
    },
    {
     "name": "stderr",
     "output_type": "stream",
     "text": [
      "Epoch: 97: 100%|██████████| 3/3 [00:00<00:00, 83.33batch/s, accuracy=97.0%, f1=97.0%, loss=0.188]\n"
     ]
    },
    {
     "name": "stdout",
     "output_type": "stream",
     "text": [
      "Loss_valid: 0.2287, Accuracy_valid: 92.0%, F1_valid: 92.0%\n"
     ]
    },
    {
     "name": "stderr",
     "output_type": "stream",
     "text": [
      "Epoch: 98: 100%|██████████| 3/3 [00:00<00:00, 90.90batch/s, accuracy=97.0%, f1=97.0%, loss=0.186]\n"
     ]
    },
    {
     "name": "stdout",
     "output_type": "stream",
     "text": [
      "Loss_valid: 0.227, Accuracy_valid: 92.0%, F1_valid: 92.0%\n"
     ]
    },
    {
     "name": "stderr",
     "output_type": "stream",
     "text": [
      "Epoch: 99: 100%|██████████| 3/3 [00:00<00:00, 78.93batch/s, accuracy=97.07%, f1=97.07%, loss=0.179]\n"
     ]
    },
    {
     "name": "stdout",
     "output_type": "stream",
     "text": [
      "Loss_valid: 0.225, Accuracy_valid: 92.0%, F1_valid: 92.0%\n"
     ]
    }
   ],
   "execution_count": 120
  },
  {
   "metadata": {},
   "cell_type": "markdown",
   "source": [
    "---\n",
    "### Plot (Loss)"
   ],
   "id": "77a01d6d9085e4a5"
  },
  {
   "metadata": {
    "ExecuteTime": {
     "end_time": "2025-06-04T20:57:50.329020Z",
     "start_time": "2025-06-04T20:57:50.242757Z"
    }
   },
   "cell_type": "code",
   "source": [
    "fig, ax = plt.subplots(figsize=(10, 10))\n",
    "\n",
    "ax.plot(range(epochs), hist_loss_train, 'r-', label='Train')\n",
    "ax.plot(range(epochs), hist_loss_valid, 'b-', label='Valid')\n",
    "\n",
    "ax.set_xlabel('Epoch')\n",
    "ax.set_ylabel('Loss')\n",
    "ax.grid(True)\n",
    "ax.legend()"
   ],
   "id": "2043ba2890a478ed",
   "outputs": [
    {
     "data": {
      "text/plain": [
       "<matplotlib.legend.Legend at 0x28b9ab78510>"
      ]
     },
     "execution_count": 121,
     "metadata": {},
     "output_type": "execute_result"
    },
    {
     "data": {
      "text/plain": [
       "<Figure size 1000x1000 with 1 Axes>"
      ],
      "image/png": "[encoded data removed]"
     },
     "metadata": {},
     "output_type": "display_data"
    }
   ],
   "execution_count": 121
  },
  {
   "metadata": {},
   "cell_type": "markdown",
   "source": "###  Plot (Accuracy)",
   "id": "3cf5e06e75e3268f"
  },
  {
   "metadata": {
    "ExecuteTime": {
     "end_time": "2025-06-04T20:57:50.535730Z",
     "start_time": "2025-06-04T20:57:50.455208Z"
    }
   },
   "cell_type": "code",
   "source": [
    "fig, ax = plt.subplots(figsize=(10, 10))\n",
    "\n",
    "ax.plot(range(epochs), hist_acc_train, 'r-', label='Train')\n",
    "ax.plot(range(epochs), hist_acc_valid, 'b-', label='Valid')\n",
    "\n",
    "ax.set_xlabel('Epoch')\n",
    "ax.set_ylabel('Accuracy')\n",
    "ax.grid(True)\n",
    "ax.legend()"
   ],
   "id": "e492cf5854209b42",
   "outputs": [
    {
     "data": {
      "text/plain": [
       "<matplotlib.legend.Legend at 0x28b9ab94a90>"
      ]
     },
     "execution_count": 122,
     "metadata": {},
     "output_type": "execute_result"
    },
    {
     "data": {
      "text/plain": [
       "<Figure size 1000x1000 with 1 Axes>"
      ],
      "image/png": "[encoded data removed]"
     },
     "metadata": {},
     "output_type": "display_data"
    }
   ],
   "execution_count": 122
  },
  {
   "metadata": {},
   "cell_type": "markdown",
   "source": "#### Plot (F1 Score)",
   "id": "fd21dfd8760ddb81"
  },
  {
   "metadata": {
    "ExecuteTime": {
     "end_time": "2025-06-04T20:57:50.684773Z",
     "start_time": "2025-06-04T20:57:50.607448Z"
    }
   },
   "cell_type": "code",
   "source": [
    "fig, ax = plt.subplots(figsize=(10, 10))\n",
    "\n",
    "ax.plot(range(epochs), hist_f1_train, 'r-', label='Train')\n",
    "ax.plot(range(epochs), hist_f1_valid, 'b-', label='Valid')\n",
    "\n",
    "ax.set_xlabel('Epoch')\n",
    "ax.set_ylabel('F1 Score')\n",
    "ax.grid(True)\n",
    "ax.legend()"
   ],
   "id": "f35f0c2e5627354e",
   "outputs": [
    {
     "data": {
      "text/plain": [
       "<matplotlib.legend.Legend at 0x28b9b26dad0>"
      ]
     },
     "execution_count": 123,
     "metadata": {},
     "output_type": "execute_result"
    },
    {
     "data": {
      "text/plain": [
       "<Figure size 1000x1000 with 1 Axes>"
      ],
      "image/png": "[encoded data removed]"
     },
     "metadata": {},
     "output_type": "display_data"
    }
   ],
   "execution_count": 123
  },
  {
   "metadata": {},
   "cell_type": "markdown",
   "source": [
    "---\n",
    "### Save Model"
   ],
   "id": "8cd74f4b8ca15d1"
  },
  {
   "metadata": {
    "ExecuteTime": {
     "end_time": "2025-06-04T20:57:50.745836Z",
     "start_time": "2025-06-04T20:57:50.741496Z"
    }
   },
   "cell_type": "code",
   "source": "torch.save(model, './model.pt')",
   "id": "35c2f716d17c374",
   "outputs": [],
   "execution_count": 124
  },
  {
   "metadata": {
    "ExecuteTime": {
     "end_time": "2025-06-04T20:57:50.810969Z",
     "start_time": "2025-06-04T20:57:50.802663Z"
    }
   },
   "cell_type": "code",
   "source": "torch.load('./model.pt', weights_only=False)",
   "id": "7aec32c0602e512f",
   "outputs": [
    {
     "data": {
      "text/plain": [
       "Sequential(\n",
       "  (0): Linear(in_features=20, out_features=64, bias=True)\n",
       "  (1): ReLU()\n",
       "  (2): Linear(in_features=64, out_features=32, bias=True)\n",
       "  (3): ReLU()\n",
       "  (4): Linear(in_features=32, out_features=4, bias=True)\n",
       ")"
      ]
     },
     "execution_count": 125,
     "metadata": {},
     "output_type": "execute_result"
    }
   ],
   "execution_count": 125
  }
 ],
 "metadata": {
  "kernelspec": {
   "display_name": "Python 3",
   "language": "python",
   "name": "python3"
  },
  "language_info": {
   "codemirror_mode": {
    "name": "ipython",
    "version": 2
   },
   "file_extension": ".py",
   "mimetype": "text/x-python",
   "name": "python",
   "nbconvert_exporter": "python",
   "pygments_lexer": "ipython2",
   "version": "2.7.6"
  }
 },
 "nbformat": 4,
 "nbformat_minor": 5
}
